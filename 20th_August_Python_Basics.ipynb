{
 "cells": [
  {
   "cell_type": "raw",
   "id": "f1f2452d-be1f-45b1-8c25-6377b3ec0c9e",
   "metadata": {},
   "source": [
    "TOPIC: String Based Assignment Problem"
   ]
  },
  {
   "cell_type": "code",
   "execution_count": 6,
   "id": "86160002-8329-4a63-977a-74b97c0306ee",
   "metadata": {},
   "outputs": [
    {
     "name": "stdout",
     "output_type": "stream",
     "text": [
      "SLLIKSWP\n"
     ]
    }
   ],
   "source": [
    "#1. Write a program to reverse a string.\n",
    "\n",
    "a = 'PWSKILLS'\n",
    "a = a[::-1]  #used slicing for revercing the string\n",
    "print(a) # output"
   ]
  },
  {
   "cell_type": "code",
   "execution_count": 12,
   "id": "7b44e9ec-9253-4dea-8e70-5ee0060e3172",
   "metadata": {},
   "outputs": [
    {
     "name": "stdin",
     "output_type": "stream",
     "text": [
      "enter any palindrome word PHYYHP\n"
     ]
    },
    {
     "name": "stdout",
     "output_type": "stream",
     "text": [
      "The entered string is palindrome\n"
     ]
    }
   ],
   "source": [
    "#2. Check if a string is a palindrome.\n",
    "\n",
    "b = input('enter any palindrome word') # taken input\n",
    "b_p = b[::-1] #reversed the string\n",
    "if b == b_p: # checking if palindrome or not \n",
    "    print('The entered string is palindrome') # if yes - print as OP\n",
    "else :\n",
    "    print('The entered string is not palindrome') # if not - print as OP"
   ]
  },
  {
   "cell_type": "code",
   "execution_count": 14,
   "id": "e23dca82-7059-46f2-8a93-b777f7988449",
   "metadata": {},
   "outputs": [
    {
     "name": "stdin",
     "output_type": "stream",
     "text": [
      "enter any word pwskills\n"
     ]
    },
    {
     "name": "stdout",
     "output_type": "stream",
     "text": [
      "PWSKILLS\n"
     ]
    }
   ],
   "source": [
    "# 3. Convert a string to uppercase.\n",
    "\n",
    "c = input('enter any word in lower case') # taken input in lower case\n",
    "print(c.upper()) # converted and printed in uppercase"
   ]
  },
  {
   "cell_type": "code",
   "execution_count": 16,
   "id": "9d8b343c-47ca-4fc1-985c-b46979b00682",
   "metadata": {},
   "outputs": [
    {
     "name": "stdin",
     "output_type": "stream",
     "text": [
      "enter any word in upper case PWSKILLS\n"
     ]
    },
    {
     "name": "stdout",
     "output_type": "stream",
     "text": [
      "pwskills\n"
     ]
    }
   ],
   "source": [
    "#4. Convert a string to lowercase.\n",
    "\n",
    "d = input('enter any word in upper case') # taken input in upper case\n",
    "print(d.lower()) # converted and printed in lowercase"
   ]
  },
  {
   "cell_type": "code",
   "execution_count": 34,
   "id": "d05761c4-14c7-4e39-bb2d-a99894555fad",
   "metadata": {},
   "outputs": [
    {
     "name": "stdin",
     "output_type": "stream",
     "text": [
      "Enter any word pwskills\n"
     ]
    },
    {
     "name": "stdout",
     "output_type": "stream",
     "text": [
      "you have 1 vovels in the entered word\n"
     ]
    }
   ],
   "source": [
    "#5. Count the number of vowels in a string.\n",
    "\n",
    "e = input('Enter any word') # input\n",
    "f = ('a','e','i','o','u') # listed vovels\n",
    "count = 0  # temprory counter as 0\n",
    "for x in e:  # iterating the alphabests of word\n",
    "    if x in f : # checking if alphabet is among vovel stated\n",
    "        count = count + 1 # if matched increacing the counter\n",
    "    else :\n",
    "        pass   # if not found passing to next itteration\n",
    "    \n",
    "print('you have ' + str(count) +  ' vovels in the entered word') # output\n"
   ]
  },
  {
   "cell_type": "code",
   "execution_count": 53,
   "id": "8eff1bf6-85fc-4121-9c2a-7b293e32fdf7",
   "metadata": {},
   "outputs": [
    {
     "name": "stdin",
     "output_type": "stream",
     "text": [
      "Enter any word pwskills\n"
     ]
    },
    {
     "name": "stdout",
     "output_type": "stream",
     "text": [
      "you have 7 consonants in the entered word\n"
     ]
    }
   ],
   "source": [
    "#6. Count the number of consonants in a string.\n",
    "\n",
    "g = input('Enter any word') # input\n",
    "f = ('a','e','i','o','u') # listed vovels\n",
    "count1 = 0 # temprory counter\n",
    "for y in g:  # iterating the alphabests of word\n",
    "    if y not in f : # checking if alphabet is among vovel stated\n",
    "        count = count + 1  # if matched adding in counter\n",
    "    else :\n",
    "        pass   # if not found passing to next itteration\n",
    "    \n",
    "print('you have ' +  str(count) +  ' consonants in the entered word') # output\n"
   ]
  },
  {
   "cell_type": "code",
   "execution_count": 63,
   "id": "5a50af41-7008-47fd-a375-fb7d1bc4b3cd",
   "metadata": {},
   "outputs": [
    {
     "name": "stdin",
     "output_type": "stream",
     "text": [
      "Enter any sentence dsc dcsd dc\n"
     ]
    },
    {
     "name": "stdout",
     "output_type": "stream",
     "text": [
      "dscdcsddc\n"
     ]
    }
   ],
   "source": [
    "#7. Remove all whitespaces from a string.\n",
    "\n",
    "h = input('Enter any sentence') # input\n",
    "h = h.replace(' ', '') # replace space using predeined function replace\n",
    "print(h) # output"
   ]
  },
  {
   "cell_type": "code",
   "execution_count": 67,
   "id": "1095aa5d-e1a0-4b1f-b0ca-24ea8dfa2789",
   "metadata": {},
   "outputs": [
    {
     "name": "stdin",
     "output_type": "stream",
     "text": [
      "Enter any word pwskills\n"
     ]
    },
    {
     "name": "stdout",
     "output_type": "stream",
     "text": [
      "8\n"
     ]
    }
   ],
   "source": [
    "#8. Find the length of a string without using the `len()` function.\n",
    "\n",
    "i = input('Enter any word') # input\n",
    "count_i = 0 # counter\n",
    "for z in i: # itteration of the alphabets in word\n",
    "    count_i = count_i + 1 # add to the counter\n",
    "\n",
    "print(count_i)"
   ]
  },
  {
   "cell_type": "code",
   "execution_count": 74,
   "id": "c4c5c1ff-78de-4b74-9f12-98b13ae6effd",
   "metadata": {},
   "outputs": [
    {
     "name": "stdin",
     "output_type": "stream",
     "text": [
      "Enter any sentence pw skkills\n",
      "word to be found pw\n"
     ]
    },
    {
     "name": "stdout",
     "output_type": "stream",
     "text": [
      "yes the word is part of string\n"
     ]
    }
   ],
   "source": [
    "#9. Check if a string contains a specific word.\n",
    "\n",
    "j = input('Enter any sentence')\n",
    "k = input('word to be found')\n",
    "if k in j:\n",
    "    print('yes the word is part of string')\n",
    "else:\n",
    "    print('no the word is not part of string')"
   ]
  },
  {
   "cell_type": "code",
   "execution_count": 76,
   "id": "1c3f0778-60be-4b5c-a877-d1f1e51a5999",
   "metadata": {},
   "outputs": [
    {
     "name": "stdin",
     "output_type": "stream",
     "text": [
      "Enter any sentence hi, i learn with PWSKILLS\n",
      "Enter any word you want to replaace :  hi\n",
      "Enter any word you want to replaace with hi :  hello\n"
     ]
    },
    {
     "name": "stdout",
     "output_type": "stream",
     "text": [
      "hello, i learn with PWSKILLS\n"
     ]
    }
   ],
   "source": [
    "#10. Replace a word in a string with another word.\n",
    "\n",
    "m = input('Enter any sentence') # input\n",
    "n = input('Enter any word you want to replaace : ') # input the word need to replace\n",
    "o = input('Enter any word you want to replaace with ' + n + ' : ') # enter the word to replace to\n",
    "p = m.replace(n,o) # replace space using predeined function replace\n",
    "print(p) # output"
   ]
  },
  {
   "cell_type": "code",
   "execution_count": 4,
   "id": "1cb9d2af-c95d-424e-8905-c580b4c18791",
   "metadata": {},
   "outputs": [
    {
     "name": "stdin",
     "output_type": "stream",
     "text": [
      "Enter any sentence Hi i am learning from PW skills \n",
      "Enter the word to check repetation for :  PW\n"
     ]
    },
    {
     "name": "stdout",
     "output_type": "stream",
     "text": [
      "1\n"
     ]
    }
   ],
   "source": [
    "#11. Count the occurrences of a word in a string.\n",
    "\n",
    "q = input('Enter any sentence')# input\n",
    "r = input('Enter the word to check repetation for : ') \n",
    "p = q.split()\n",
    "counter = 0\n",
    "for x in p:\n",
    "    if x == r:\n",
    "        counter = counter + 1\n",
    "    else:\n",
    "        pass\n",
    "\n",
    "print(counter)"
   ]
  },
  {
   "cell_type": "code",
   "execution_count": 29,
   "id": "5b577c29-a044-40f2-9360-7020be97339e",
   "metadata": {},
   "outputs": [
    {
     "name": "stdin",
     "output_type": "stream",
     "text": [
      "Enter the sentence :  hi am rishi\n",
      "Enter the word you want to find the first occurance for :  hi\n"
     ]
    },
    {
     "name": "stdout",
     "output_type": "stream",
     "text": [
      "First occurrence of a word in a string is at 1 position\n"
     ]
    }
   ],
   "source": [
    "#12. Find the first occurrence of a word in a string.\n",
    "\n",
    "string_1 = str(input('Enter the sentence : '))\n",
    "string_2 = str(input(\"Enter the word you want to find the first occurance for : \"))\n",
    "list_1 = string_1.split()\n",
    "try:\n",
    "    print('First occurrence of a word in a string is at ' + str(int(list_1.index(string_2)) + 1) + ' position')\n",
    "\n",
    "except Exception :\n",
    "    print('invalid input')\n"
   ]
  },
  {
   "cell_type": "code",
   "execution_count": 60,
   "id": "352ba16d-ce41-4039-8866-2a1917de5adf",
   "metadata": {},
   "outputs": [
    {
     "name": "stdin",
     "output_type": "stream",
     "text": [
      "Enter the sentence :  i eork at pw skills and i am rishi\n",
      "Enter the word you want to find the last occurance for :  i\n"
     ]
    },
    {
     "name": "stdout",
     "output_type": "stream",
     "text": [
      "last occurrence of a word in a string is at 7 position\n"
     ]
    }
   ],
   "source": [
    "#13. Find the last occurrence of a word in a string.\n",
    "\n",
    "string_1 = str(input('Enter the sentence : '))\n",
    "string_2 = str(input(\"Enter the word you want to find the last occurance for : \"))\n",
    "list_1 = string_1.split()\n",
    "list_1.reverse()\n",
    "try:\n",
    "    print('last occurrence of a word in a string is at ' + str(len(list_1)-(list_1.index(string_2))) + ' position')\n",
    "\n",
    "except Exception :\n",
    "    print('invalid input')"
   ]
  },
  {
   "cell_type": "code",
   "execution_count": 61,
   "id": "c96e27c7-5e18-46db-8949-55c902968482",
   "metadata": {},
   "outputs": [
    {
     "name": "stdin",
     "output_type": "stream",
     "text": [
      "Enter the sentence :  hi am rishi\n"
     ]
    },
    {
     "name": "stdout",
     "output_type": "stream",
     "text": [
      "['hi', 'am', 'rishi']\n"
     ]
    }
   ],
   "source": [
    "#14. Split a string into a list of words.\n",
    "\n",
    "string_1 = string_1 = str(input('Enter the sentence : '))\n",
    "print(string_1.split())"
   ]
  },
  {
   "cell_type": "code",
   "execution_count": 5,
   "id": "f2f5434c-b610-4e68-9286-53ffe620ab96",
   "metadata": {},
   "outputs": [
    {
     "name": "stdin",
     "output_type": "stream",
     "text": [
      "Enter the list of words seperated by  , and no space :  hi, i, am, rishi, learning, from ,PW, skills\n"
     ]
    },
    {
     "name": "stdout",
     "output_type": "stream",
     "text": [
      "your list is ['hi', ' i', ' am', ' rishi', ' learning', ' from ', 'PW', ' skills']\n",
      "After convertion from list to string :  hi  i  am  rishi  learning  from  PW  skills \n"
     ]
    }
   ],
   "source": [
    "#15. Join a list of words into a string.\n",
    "\n",
    "string_1 = input(\"Enter the list of words seperated by \" + \" , \" +\"and no space : \" )\n",
    "list_1 = string_1.split(',')\n",
    "print(\"your list is \" + str(list_1))\n",
    "string_2 = ''\n",
    "for x in list_1:\n",
    "    string_2 = string_2+x+ ' '\n",
    "\n",
    "print('After convertion from list to string : ',string_2)\n",
    "    "
   ]
  },
  {
   "cell_type": "code",
   "execution_count": 10,
   "id": "4010abbb-58a0-4783-a9f2-732f6a2784ef",
   "metadata": {},
   "outputs": [
    {
     "name": "stdin",
     "output_type": "stream",
     "text": [
      "Enter string where words are separated by spaces :  hi am rishi\n"
     ]
    },
    {
     "name": "stdout",
     "output_type": "stream",
     "text": [
      "after replacing spaace to _ :  hi_am_rishi\n"
     ]
    }
   ],
   "source": [
    "'''16. Convert a string where words are separated by spaces to one where words\n",
    "are separated by underscores.'''\n",
    "\n",
    "string_1 = input('Enter string where words are separated by spaces : ')\n",
    "string_2 = string_1.replace(' ','_')\n",
    "print('after replacing spaace to _ : ',string_2)"
   ]
  },
  {
   "cell_type": "code",
   "execution_count": 28,
   "id": "9475d123-0a33-4175-a029-04b57f85c3c8",
   "metadata": {},
   "outputs": [
    {
     "name": "stdin",
     "output_type": "stream",
     "text": [
      "Enter any sentence :  hi am rishi\n",
      "Enter the word you want to check for :  hi am\n"
     ]
    },
    {
     "name": "stdout",
     "output_type": "stream",
     "text": [
      "yes\n"
     ]
    }
   ],
   "source": [
    "#17. Check if a string starts with a specific word or phrase.\n",
    "\n",
    "string_1 = input('Enter any sentence : ')\n",
    "string_2 = input('Enter the word you want to check for : ')\n",
    "list_1 = string_1.split()\n",
    "list_2 = string_2.split()\n",
    "\n",
    "if list_1[0]==string_2:\n",
    "    print('yes')\n",
    "\n",
    "elif string_2 in string_1:\n",
    "    if list_1[0] == list_2[0]:\n",
    "        print('yes')\n",
    "    else:\n",
    "        print('NO')\n",
    "else:\n",
    "    print('NO')"
   ]
  },
  {
   "cell_type": "code",
   "execution_count": 38,
   "id": "62d0b700-4141-4971-a644-0a8581214193",
   "metadata": {},
   "outputs": [
    {
     "name": "stdin",
     "output_type": "stream",
     "text": [
      "Enter any sentence :  hi am rishi\n",
      "Enter the word you want to check for :  rishi\n"
     ]
    },
    {
     "name": "stdout",
     "output_type": "stream",
     "text": [
      "yes\n"
     ]
    }
   ],
   "source": [
    "#18. Check if a string ends with a specific word or phrase.\n",
    "\n",
    "string_1 = input('Enter any sentence : ')\n",
    "string_2 = input('Enter the word you want to check for : ')\n",
    "list_1 = string_1.split()\n",
    "list_2 = string_2.split()\n",
    "\n",
    "if list_1[-1]==string_2:\n",
    "    print('yes')\n",
    "\n",
    "elif string_2 in string_1:\n",
    "    if list_1[(len(list_1)-len(list_2))::] == list_2:\n",
    "        print('yes')\n",
    "    else:\n",
    "        print('NO')\n",
    "    \n",
    "else:\n",
    "    print('NO')\n",
    "\n"
   ]
  },
  {
   "cell_type": "code",
   "execution_count": 46,
   "id": "adb2d666-4c39-45e1-9561-837b1171eca9",
   "metadata": {},
   "outputs": [
    {
     "name": "stdin",
     "output_type": "stream",
     "text": [
      "Enter any sentence :  hello world\n"
     ]
    },
    {
     "name": "stdout",
     "output_type": "stream",
     "text": [
      "After convertion to title case :  Hello World\n"
     ]
    }
   ],
   "source": [
    "#19. Convert a string to title case (e.g., \"hello world\" to \"Hello World\").\n",
    "\n",
    "string_1 = input('Enter any sentence : ')\n",
    "a = string_1.title()\n",
    "print('After convertion to title case : ',a)"
   ]
  },
  {
   "cell_type": "code",
   "execution_count": 5,
   "id": "17e0bc5c-f094-43d4-b32a-42f777051aff",
   "metadata": {},
   "outputs": [
    {
     "name": "stdin",
     "output_type": "stream",
     "text": [
      "Enter any sentence :  hi am hrishikesh ingole\n"
     ]
    },
    {
     "name": "stdout",
     "output_type": "stream",
     "text": [
      "hrishikesh\n"
     ]
    }
   ],
   "source": [
    "#20. Find the longest word in a string.\n",
    "\n",
    "string_1 = input('Enter any sentence : ')\n",
    "list_1 = string_1.split()\n",
    "counter = 0\n",
    "for x in list_1:\n",
    "    if len(x) > counter:\n",
    "        counter = len(x)\n",
    "        y = x\n",
    "    else:\n",
    "        pass\n",
    "\n",
    "print('the longest word in a string is ', y)"
   ]
  },
  {
   "cell_type": "code",
   "execution_count": 8,
   "id": "8c14487a-498a-4d8e-b822-c6db5a99e9e7",
   "metadata": {},
   "outputs": [
    {
     "name": "stdin",
     "output_type": "stream",
     "text": [
      "Enter any sentence :  hi a my name \n"
     ]
    },
    {
     "name": "stdout",
     "output_type": "stream",
     "text": [
      "the shortest word in a string is  a\n"
     ]
    }
   ],
   "source": [
    "#21. Find the shortest word in a string.\n",
    "\n",
    "\n",
    "string_1 = input('Enter any sentence : ')\n",
    "list_1 = string_1.split()\n",
    "counter = len(string_1)\n",
    "for x in list_1:\n",
    "    if len(x) < counter:\n",
    "        counter = len(x)\n",
    "        y = x\n",
    "    else:\n",
    "        pass\n",
    "\n",
    "print('the shortest word in a string is ', y)"
   ]
  },
  {
   "cell_type": "code",
   "execution_count": 1,
   "id": "1326e53e-7213-4a23-8c2b-2731ee44d2e6",
   "metadata": {},
   "outputs": [
    {
     "name": "stdin",
     "output_type": "stream",
     "text": [
      "Enter any sentence :  hi am rishi\n"
     ]
    },
    {
     "name": "stdout",
     "output_type": "stream",
     "text": [
      "rishi am hi \n"
     ]
    }
   ],
   "source": [
    "#22. Reverse the order of words in a string.\n",
    "\n",
    "string_1 = input('Enter any sentence : ')\n",
    "list_1 = string_1.split()[::-1]\n",
    "string_2 = ''\n",
    "for x in list_1:\n",
    "    string_2 = string_2+x+' '\n",
    "\n",
    "print(string_2)"
   ]
  },
  {
   "cell_type": "code",
   "execution_count": 9,
   "id": "9b06c272-7320-454d-b1b2-58e0ed901488",
   "metadata": {},
   "outputs": [
    {
     "name": "stdin",
     "output_type": "stream",
     "text": [
      "Enter any sentence :  ncdscdnp23\n"
     ]
    },
    {
     "name": "stdout",
     "output_type": "stream",
     "text": [
      "yes, the string is alphanumeric\n"
     ]
    }
   ],
   "source": [
    "#23. Check if a string is alphanumeric.\n",
    "\n",
    "string_1 = input('Enter any string : ')\n",
    "if string_1.isalnum():\n",
    "    print('yes, the string is alphanumeric')\n",
    "else:\n",
    "    print('No, the string is not alphanumeric')"
   ]
  },
  {
   "cell_type": "code",
   "execution_count": 14,
   "id": "36f3980e-e7f1-4759-a24e-0d2fdeb05428",
   "metadata": {},
   "outputs": [
    {
     "name": "stdin",
     "output_type": "stream",
     "text": [
      "Enter any string :  hdsc45 ohfo98\\\n"
     ]
    },
    {
     "name": "stdout",
     "output_type": "stream",
     "text": [
      "numbers in the given string are :  ['4', '5', '9', '8']\n"
     ]
    }
   ],
   "source": [
    "#24. Extract all digits from a string.\n",
    "\n",
    "string_1 = input('Enter any string : ')\n",
    "string_2  = '1234567890'\n",
    "list_1 = []\n",
    "for x in string_1 :\n",
    "    if x in string_2:\n",
    "        list_1.append(x)\n",
    "        \n",
    "print('numbers in the given string are : ',list_1)\n",
    "        "
   ]
  },
  {
   "cell_type": "code",
   "execution_count": 17,
   "id": "d698ded0-9faa-4e34-a07a-b565bd12b077",
   "metadata": {},
   "outputs": [
    {
     "name": "stdin",
     "output_type": "stream",
     "text": [
      "Enter any string :  hiod56mdncn-9\n"
     ]
    },
    {
     "name": "stdout",
     "output_type": "stream",
     "text": [
      "alphabets in the given string are :  ['h', 'i', 'o', 'd', 'm', 'd', 'n', 'c', 'n']\n"
     ]
    }
   ],
   "source": [
    "#25. Extract all alphabets from a string.\n",
    "\n",
    "string_1 = input('Enter any string : ')\n",
    "list_1 = []\n",
    "for x in string_1:\n",
    "    if x.isalpha():\n",
    "        list_1.append(x)\n",
    "\n",
    "print('alphabets in the given string are : ',list_1)"
   ]
  },
  {
   "cell_type": "code",
   "execution_count": 36,
   "id": "1f9d54da-f0d0-4893-97ef-45b09d81b194",
   "metadata": {},
   "outputs": [
    {
     "name": "stdin",
     "output_type": "stream",
     "text": [
      "Enter any string :  Hrishi\n"
     ]
    },
    {
     "name": "stdout",
     "output_type": "stream",
     "text": [
      "Uppercase letters in the given string are :  1\n"
     ]
    }
   ],
   "source": [
    "#26. Count the number of uppercase letters in a string.\n",
    "\n",
    "string_1 = input('Enter any string : ')\n",
    "list_1 = []\n",
    "for x in string_1:\n",
    "    if x.isupper():\n",
    "        list_1.append(x)\n",
    "\n",
    "print('Uppercase letters in the given string are : ',len(list_1))"
   ]
  },
  {
   "cell_type": "code",
   "execution_count": 19,
   "id": "41749fe5-62c1-4ebd-a3f0-2372858c9561",
   "metadata": {},
   "outputs": [
    {
     "name": "stdin",
     "output_type": "stream",
     "text": [
      "Enter any string :  Hrishikesh\n"
     ]
    },
    {
     "name": "stdout",
     "output_type": "stream",
     "text": [
      "Lowercase letters in the given string are :  ['r', 'i', 's', 'h', 'i', 'k', 'e', 's', 'h']\n"
     ]
    }
   ],
   "source": [
    "#27. Count the number of lowercase letters in a string.\n",
    "\n",
    "string_1 = input('Enter any string : ')\n",
    "list_1 = []\n",
    "for x in string_1:\n",
    "    if x.islower():\n",
    "        list_1.append(x)\n",
    "\n",
    "print('Lowercase letters in the given string are : ',len(list_1))"
   ]
  },
  {
   "cell_type": "code",
   "execution_count": 24,
   "id": "2eb158d1-8185-4e9a-a4c3-c0bc15d13dea",
   "metadata": {},
   "outputs": [
    {
     "name": "stdin",
     "output_type": "stream",
     "text": [
      "Enter any string, use only alphabets :  PWskills\n"
     ]
    },
    {
     "name": "stdout",
     "output_type": "stream",
     "text": [
      "pwSKILLS\n"
     ]
    }
   ],
   "source": [
    "#28. Swap the case of each character in a string.\n",
    "\n",
    "string_1 = input('Enter any string, use only alphabets : ')\n",
    "string_2 = ''\n",
    "for x in string_1:\n",
    "    if x.isupper():\n",
    "        string_2 = string_2 + x.lower()\n",
    "    else:\n",
    "        string_2 = string_2 + x.upper()\n",
    "print(string_2)"
   ]
  },
  {
   "cell_type": "code",
   "execution_count": 34,
   "id": "4be6060c-d5d6-4718-9fc5-37901b067505",
   "metadata": {},
   "outputs": [
    {
     "name": "stdin",
     "output_type": "stream",
     "text": [
      "Enter any sentence :  hi am rishi learning from pw skills\n",
      "Enter the word you want to remove :  pw\n"
     ]
    },
    {
     "name": "stdout",
     "output_type": "stream",
     "text": [
      "hi am rishi learning from  skills\n"
     ]
    }
   ],
   "source": [
    "#29. Remove a specific word from a string.\n",
    "\n",
    "string_1 = input('Enter any sentence : ')\n",
    "string_2 = input('Enter the word you want to remove : ')\n",
    "string_3 = string_1.replace(string_2,'')\n",
    "print(\"results = \",string_3)"
   ]
  },
  {
   "cell_type": "code",
   "execution_count": 26,
   "id": "1a067708-856f-4027-843d-ccc8d319c365",
   "metadata": {},
   "outputs": [
    {
     "name": "stdin",
     "output_type": "stream",
     "text": [
      "Enter the email id :  hrishi.ingole@gmail.com\n"
     ]
    },
    {
     "name": "stdout",
     "output_type": "stream",
     "text": [
      "The email you have entered is vallid\n"
     ]
    }
   ],
   "source": [
    "#30. Check if a string is a valid email address.\n",
    "\n",
    "\"\"\"You have to write the program according to these conditions:\n",
    "\n",
    "1. Format: The string should have the basic email address format: local_part@domain.\n",
    "\n",
    "2. @ Symbol: There must be exactly one \"@\" symbol in the email address, separating the local_part from the domain.\n",
    "\n",
    "3. Domain Format: The domain part should consist of:\n",
    "\n",
    "-> At least one domain name segment (e.g., \"example\" in \"example.com\").\n",
    "-> Each domain name segment should consist of letters, digits, hyphens (\"-\"), or periods (\".\").\n",
    "-> The last domain name segment should have at least two characters (e.g., \"com,\" \"org,\" or \"co.uk\").\n",
    "\n",
    "4. Local Part Format: The local_part should follow these rules:\n",
    "\n",
    "-> It can contain letters (both uppercase and lowercase), digits, hyphens (\"-\"), periods (\".\") as long as they are not at the beginning or end, and underscores (\"_\").\n",
    "-> It cannot start or end with a period.\n",
    "-> It cannot contain spaces or other special characters.\"\"\"\n",
    "\n",
    "\n",
    "\n",
    "email = input('Enter the email id : ')\n",
    "\n",
    "if email.count('@')==1 and (' ') not in email :\n",
    "    list_1 = email.split('@')\n",
    "    local_part = list_1[0]\n",
    "    if (local_part[0].isalnum() == False or local_part[-1].isalnum() == False ):\n",
    "        print('The email you have entered is invalid')\n",
    "    else:\n",
    "        domain = list_1[1]\n",
    "        if domain.count('.') == 1:   \n",
    "            list_2 = domain.split('.')\n",
    "            domain_name = list_2[0]\n",
    "            domain_extensions = list_2[1]\n",
    "            print('The email you have entered is vallid')\n",
    "        else:\n",
    "            print('The email you have entered is invalid')\n",
    "else:\n",
    "    print('The email you have entered is invalid')\n",
    "\n"
   ]
  },
  {
   "cell_type": "code",
   "execution_count": 29,
   "id": "130be2e9-29fb-4d41-8c9e-4f387af41622",
   "metadata": {},
   "outputs": [
    {
     "name": "stdin",
     "output_type": "stream",
     "text": [
      "Enter the email id :  hrishi@gmail.com\n"
     ]
    },
    {
     "name": "stdout",
     "output_type": "stream",
     "text": [
      "The email you have entered is vallid\n",
      "your uuser name is :  hrishi\n"
     ]
    }
   ],
   "source": [
    "#31. Extract the username from an email address string.\n",
    "\n",
    "email = input('Enter the email id : ')\n",
    "\n",
    "if email.count('@')==1 and (' ') not in email :\n",
    "    list_1 = email.split('@')\n",
    "    local_part = list_1[0]\n",
    "    if (local_part[0].isalnum() == False or local_part[-1].isalnum() == False ):\n",
    "        print('The email you have entered is invalid')\n",
    "    else:\n",
    "        domain = list_1[1]\n",
    "        if domain.count('.') == 1:   \n",
    "            list_2 = domain.split('.')\n",
    "            domain_name = list_2[0]\n",
    "            domain_extensions = list_2[1]\n",
    "            print('The email you have entered is vallid')\n",
    "        else:\n",
    "            print('The email you have entered is invalid')\n",
    "else:\n",
    "    print('The email you have entered is invalid')\n",
    "            \n",
    "print('your uuser name is : ',local_part)"
   ]
  },
  {
   "cell_type": "code",
   "execution_count": 12,
   "id": "6fd69bd7-0610-416b-aa18-67f4774b715b",
   "metadata": {},
   "outputs": [
    {
     "name": "stdin",
     "output_type": "stream",
     "text": [
      "Enter the email id :  h@fmail.com\n"
     ]
    },
    {
     "name": "stdout",
     "output_type": "stream",
     "text": [
      "The email you have entered is vallid\n",
      "your domain name is :  fmail\n"
     ]
    }
   ],
   "source": [
    "#32. Extract the domain name from an email address string.\n",
    "\n",
    "email = input('Enter the email id : ')\n",
    "\n",
    "if email.count('@')==1 and (' ') not in email :\n",
    "    list_1 = email.split('@')\n",
    "    local_part = list_1[0]\n",
    "    if (local_part[0].isalnum() == False or local_part[-1].isalnum() == False ):\n",
    "        print('The email you have entered is invalid')\n",
    "    else:\n",
    "        domain = list_1[1]\n",
    "        if domain.count('.') == 1:   \n",
    "            list_2 = domain.split('.')\n",
    "            domain_name = list_2[0]\n",
    "            domain_extensions = list_2[1]\n",
    "            print('The email you have entered is vallid')\n",
    "        else:\n",
    "            print('The email you have entered is invalid')\n",
    "else:\n",
    "    print('The email you have entered is invalid')\n",
    "            \n",
    "print('your domain name is : ',domain_name)"
   ]
  },
  {
   "cell_type": "code",
   "execution_count": 1,
   "id": "05d22579-4c20-4e1f-8d4d-57c05a2b08fb",
   "metadata": {},
   "outputs": [
    {
     "name": "stdin",
     "output_type": "stream",
     "text": [
      "Enter any sentence with multiple space :  nadc4 sakcnla\n"
     ]
    },
    {
     "name": "stdout",
     "output_type": "stream",
     "text": [
      "After removing the large spaces :  nadc4 sakcnla \n"
     ]
    }
   ],
   "source": [
    "#33. Replace multiple spaces in a string with a single space.\n",
    "\n",
    "string_1 = input('Enter any sentence with multiple space : ')\n",
    "list_1 = string_1.split()\n",
    "string_2 = ''\n",
    "for x in list_1:\n",
    "    string_2 = string_2 + x + ' '\n",
    "print('After removing the large spaces : ',string_2)"
   ]
  },
  {
   "cell_type": "code",
   "execution_count": 16,
   "id": "cbd7c0c0-33ba-4011-bbe0-e601e82cd45b",
   "metadata": {},
   "outputs": [
    {
     "name": "stdin",
     "output_type": "stream",
     "text": [
      "Enter URL :  https://lab.pwskills.com/my-labs\n"
     ]
    },
    {
     "name": "stdout",
     "output_type": "stream",
     "text": [
      "Valid URL\n"
     ]
    }
   ],
   "source": [
    "#34. Check if a string is a valid URL.\n",
    "#https://lab.pwskills.com/my-labs\n",
    "\n",
    "string_1 = input('Enter URL : ')\n",
    "\n",
    "if string_1.count('://')==1 and (' ') not in string_1 :\n",
    "    list_1 = string_1.split('://')\n",
    "    protocol=list_1[0]\n",
    "    if protocol[0].isalnum() == False or protocol[-1].isalnum() == False :\n",
    "        print('invlid URL')\n",
    "    else:\n",
    "        list_2 = list_1[1].split('/')\n",
    "        domain = list_2[0].split('.')\n",
    "        sub_domain = domain[0]\n",
    "        root_domain = domain[0]\n",
    "        domain_extensions = domain[0]\n",
    "        if sub_domain[0].isalnum() == False or sub_domain[-1].isalnum() == False or root_domain[0].isalnum() == False or root_domain[-1].isalnum() == False or domain_extensions[0].isalnum() == False or domain_extensions[-1].isalnum() == False :\n",
    "            print('invlid url')\n",
    "        else:\n",
    "            print('Valid URL')\n",
    "else :\n",
    "    print('invlid URL')"
   ]
  },
  {
   "cell_type": "code",
   "execution_count": 17,
   "id": "374174e6-a1f1-4dc9-aa74-878668eeb75a",
   "metadata": {},
   "outputs": [
    {
     "name": "stdin",
     "output_type": "stream",
     "text": [
      "Enter URL :  https://lab.pwskills.com/my-labs\n"
     ]
    },
    {
     "name": "stdout",
     "output_type": "stream",
     "text": [
      "Valid URL\n",
      "The protocol is  https\n"
     ]
    }
   ],
   "source": [
    "#35. Extract the protocol (http or https) from a URL string.\n",
    "\n",
    "string_1 = input('Enter URL : ')\n",
    "\n",
    "if string_1.count('://')==1 and (' ') not in string_1 :\n",
    "    list_1 = string_1.split('://')\n",
    "    protocol=list_1[0]\n",
    "    if protocol[0].isalnum() == False or protocol[-1].isalnum() == False :\n",
    "        print('invlid URL')\n",
    "    else:\n",
    "        list_2 = list_1[1].split('/')\n",
    "        domain = list_2[0].split('.')\n",
    "        sub_domain = domain[0]\n",
    "        root_domain = domain[0]\n",
    "        domain_extensions = domain[0]\n",
    "        if sub_domain[0].isalnum() == False or sub_domain[-1].isalnum() == False or root_domain[0].isalnum() == False or root_domain[-1].isalnum() == False or domain_extensions[0].isalnum() == False or domain_extensions[-1].isalnum() == False :\n",
    "            print('invlid url')\n",
    "        else:\n",
    "            print('Valid URL')\n",
    "else :\n",
    "    print('invlid URL')\n",
    "    \n",
    "print('The protocol is ',protocol)"
   ]
  },
  {
   "cell_type": "code",
   "execution_count": 36,
   "id": "543bc5d3-2e29-4ae7-88c7-0bf951e0212a",
   "metadata": {},
   "outputs": [
    {
     "name": "stdin",
     "output_type": "stream",
     "text": [
      "Enter any scentence :  i learn at PW skills\n"
     ]
    },
    {
     "name": "stdout",
     "output_type": "stream",
     "text": [
      "frequency of k is 1\n",
      "frequency of P is 1\n",
      "frequency of i is 2\n",
      "frequency of s is 2\n",
      "frequency of a is 2\n",
      "frequency of n is 1\n",
      "frequency of W is 1\n",
      "frequency of l is 3\n",
      "frequency of t is 1\n",
      "frequency of r is 1\n",
      "frequency of e is 1\n"
     ]
    }
   ],
   "source": [
    "#36. Find the frequency of each character in a string.\n",
    "\n",
    "string_1 = input('Enter any scentence : ')\n",
    "set_1 = set()\n",
    "for x in string_1:\n",
    "    set_1.add(x)\n",
    "\n",
    "for y in set_1:\n",
    "    if y != ' ':\n",
    "        counter = string_1.count(y)\n",
    "        print('frequency of ' + y + ' is ' + str(counter))"
   ]
  },
  {
   "cell_type": "code",
   "execution_count": 33,
   "id": "b2bcfec5-2d4f-42da-bf59-1eb60e91df67",
   "metadata": {},
   "outputs": [
    {
     "name": "stdin",
     "output_type": "stream",
     "text": [
      "Enter any string :  hi @rishi\n"
     ]
    },
    {
     "name": "stdout",
     "output_type": "stream",
     "text": [
      "Aftre removing all punctuation from a string hi rishi \n"
     ]
    }
   ],
   "source": [
    "#37. Remove all punctuation from a string.\n",
    "\n",
    "string_1 = input('Enter any string : ')\n",
    "string_2 = ''\n",
    "list_1 = string_1.split()\n",
    "for x in list_1:\n",
    "    for y in x:\n",
    "        if y.isalnum():\n",
    "            string_2 = string_2 + y \n",
    "    string_2 = string_2+' '\n",
    "\n",
    "print('Aftre removing all punctuation from a string', string_2)"
   ]
  },
  {
   "cell_type": "code",
   "execution_count": 72,
   "id": "70157577-3c91-470d-a6e2-dc1603bec5c0",
   "metadata": {},
   "outputs": [
    {
     "name": "stdin",
     "output_type": "stream",
     "text": [
      "Enter any string :  7476667\n"
     ]
    },
    {
     "name": "stdout",
     "output_type": "stream",
     "text": [
      "yes,string contains only digits.\n"
     ]
    }
   ],
   "source": [
    "#38. Check if a string contains only digits\n",
    "\n",
    "string_1 = input('Enter any string : ')\n",
    "list_1 = string_1.split()\n",
    "counter = 0\n",
    "for x in list_1:\n",
    "    if x.isdigit():\n",
    "        counter = counter\n",
    "    else:\n",
    "        counter += 1\n",
    "if counter!=0:\n",
    "    print('no,string dont contains only digits.')\n",
    "else:\n",
    "    print('yes,string contains only digits.')\n",
    "    "
   ]
  },
  {
   "cell_type": "code",
   "execution_count": 74,
   "id": "d20d98b9-3bd0-4db3-9479-64513f2db6cb",
   "metadata": {},
   "outputs": [
    {
     "name": "stdin",
     "output_type": "stream",
     "text": [
      "Enter any string :  fdsuiuhouh\n"
     ]
    },
    {
     "name": "stdout",
     "output_type": "stream",
     "text": [
      "yes,string contains only alphabets\n"
     ]
    }
   ],
   "source": [
    "#39. Check if a string contains only alphabets.\n",
    "\n",
    "string_1 = input('Enter any string : ')\n",
    "list_1 = string_1.split()\n",
    "counter = 0\n",
    "for x in list_1:\n",
    "    if x.isalpha():\n",
    "        counter = counter\n",
    "    else:\n",
    "        counter += 1\n",
    "if counter!=0:\n",
    "    print('no, string dont contains only alphabets.')\n",
    "else:\n",
    "    print('yes,string contains only alphabets' )"
   ]
  },
  {
   "cell_type": "code",
   "execution_count": 84,
   "id": "d65aeb44-e699-42a0-a61d-4f0f9bf30bdc",
   "metadata": {},
   "outputs": [
    {
     "name": "stdin",
     "output_type": "stream",
     "text": [
      "Enter any string :  hi am rishi\n"
     ]
    },
    {
     "name": "stdout",
     "output_type": "stream",
     "text": [
      "list of characters :  ['h', 'i', 'a', 'm', 'r', 'i', 's', 'h', 'i']\n"
     ]
    }
   ],
   "source": [
    "#40. Convert a string to a list of characters.\n",
    "\n",
    "string_1 = input('Enter any string : ')\n",
    "list_1 = []\n",
    "for x in string_1:\n",
    "    if x != ' ':\n",
    "        list_1.append(x)\n",
    "print('list of characters : ',list_1)"
   ]
  },
  {
   "cell_type": "code",
   "execution_count": 14,
   "id": "1bb2ae29-495b-426a-a3d4-836af9dd9ca8",
   "metadata": {},
   "outputs": [
    {
     "name": "stdin",
     "output_type": "stream",
     "text": [
      "Enter first string :  cat\n",
      "Enter second string :  tac\n"
     ]
    },
    {
     "name": "stdout",
     "output_type": "stream",
     "text": [
      "yes, two strings are anagrams\n"
     ]
    }
   ],
   "source": [
    "#41. Check if two strings are anagrams.\n",
    "\n",
    "string_1 = input('Enter first string : ')\n",
    "string_2 = input('Enter second string : ')\n",
    "set_1 = set()\n",
    "set_2 = set()\n",
    "counter = 0\n",
    "\n",
    "for x in string_1:\n",
    "    set_1.add(x)\n",
    "\n",
    "for y in string_2:\n",
    "    set_2.add(y)\n",
    "    \n",
    "if set_1.intersection(set_2) :\n",
    "    for comp in set_1:\n",
    "        if string_1.count(comp) == string_2.count(comp):\n",
    "            counter = counter\n",
    "        else:\n",
    "            counter += 1\n",
    "\n",
    "if counter != 0:\n",
    "    print('NO, two strings are not anagrams')\n",
    "else:\n",
    "    print('yes, two strings are anagrams')\n"
   ]
  },
  {
   "cell_type": "code",
   "execution_count": 26,
   "id": "1e92eaf3-f44f-4729-94b5-7e4dc13159af",
   "metadata": {},
   "outputs": [
    {
     "name": "stdin",
     "output_type": "stream",
     "text": [
      "Enter any string :  PWSKILLS\n"
     ]
    },
    {
     "name": "stdout",
     "output_type": "stream",
     "text": [
      "In Caesar cipher format :  SZVNLOOV \n"
     ]
    }
   ],
   "source": [
    "#42. Encode a string using a Caesar cipher\n",
    "\n",
    "string_1 = input('Enter any string : ')\n",
    "list_1 = string_1.split()\n",
    "string_2 = ''\n",
    "for x in list_1:\n",
    "    for y in x:\n",
    "        order = ord(y) + 3\n",
    "        string_2 = string_2 + chr(order)    \n",
    "    string_2 = string_2 + ' '\n",
    "\n",
    "print('In Caesar cipher format : ', string_2)\n",
    "        "
   ]
  },
  {
   "cell_type": "code",
   "execution_count": 28,
   "id": "12ca918f-7cfd-4a22-b3bd-242235df0c4a",
   "metadata": {},
   "outputs": [
    {
     "name": "stdin",
     "output_type": "stream",
     "text": [
      "Enter any string in Caesar cipher format :  SZVNLOOV\n"
     ]
    },
    {
     "name": "stdout",
     "output_type": "stream",
     "text": [
      "In decoded format :  PWSKILLS \n"
     ]
    }
   ],
   "source": [
    "#43. Decode a Caesar cipher encoded string\n",
    "\n",
    "string_1 = input('Enter any string in Caesar cipher format : ')\n",
    "list_1 = string_1.split()\n",
    "string_2 = ''\n",
    "for x in list_1:\n",
    "    for y in x:\n",
    "        order = ord(y) - 3\n",
    "        string_2 = string_2 + chr(order)    \n",
    "    string_2 = string_2 + ' '\n",
    "\n",
    "print('In decoded format : ', string_2)"
   ]
  },
  {
   "cell_type": "code",
   "execution_count": 94,
   "id": "48bc73bb-9d6d-4d15-9a34-08977b3632ce",
   "metadata": {},
   "outputs": [
    {
     "name": "stdin",
     "output_type": "stream",
     "text": [
      "Enter any scentence :  hi am rishi rishi\n"
     ]
    },
    {
     "name": "stdout",
     "output_type": "stream",
     "text": [
      "One of the repeted word with highest frequency :  rishi\n"
     ]
    }
   ],
   "source": [
    "#44. Find the most frequent word in a string.\n",
    "\n",
    "string_1 = input('Enter any scentence : ')\n",
    "list_1 = string_1.split()\n",
    "dict_1 = {}\n",
    "gretter = 0\n",
    "count = 0\n",
    "\n",
    "for y in list_1:\n",
    "    if y != ' ':\n",
    "        counter = list_1.count(y)\n",
    "        dict_1[y]=counter\n",
    "\n",
    "for x in dict_1.values():\n",
    "    if x > gretter:\n",
    "        gretter = x\n",
    "\n",
    "key_dict_1 = list(dict_1.keys())\n",
    "value_dict_1 = list(dict_1.values())\n",
    "\n",
    "position = value_dict_1.index(gretter)  \n",
    "\n",
    "if position == 0 and gretter != 1 :\n",
    "    print(key_dict_1[position])\n",
    "elif position == 0 and gretter == 1 :\n",
    "    print('NO word is repeted')\n",
    "else:\n",
    "    print(\"One of the repeted word with highest frequency : \",key_dict_1[position])\n"
   ]
  },
  {
   "cell_type": "code",
   "execution_count": 26,
   "id": "b6848e53-94cd-4e01-ba96-1fc16ba25ae4",
   "metadata": {},
   "outputs": [
    {
     "name": "stdin",
     "output_type": "stream",
     "text": [
      "Enter any scentence :  hi am rishi am rishi\n"
     ]
    },
    {
     "name": "stdout",
     "output_type": "stream",
     "text": [
      "The most frequent word in a string are :  {'rishi', 'am'}\n"
     ]
    }
   ],
   "source": [
    "#44. Find the most frequent word in a string.\n",
    "\n",
    "string_1 = input('Enter any scentence : ')\n",
    "list_1 = string_1.split()\n",
    "list_2 = []\n",
    "set_1 = set()\n",
    "for x in list_1:\n",
    "    if list_1.count(x)>1:\n",
    "        continue\n",
    "    else:\n",
    "        list_2.append(x)\n",
    "        \n",
    "if list_1 != list_2:\n",
    "    for value in list_2:\n",
    "        list_1.remove(value)\n",
    "    \n",
    "    set_1 =  set(list_1)\n",
    "    \n",
    "    print('The most frequent word in a string are : ', set_1)\n",
    "else:\n",
    "    print('None of the words repeted', list_1)\n",
    "\n",
    "\n",
    "\n",
    "\n"
   ]
  },
  {
   "cell_type": "code",
   "execution_count": 2,
   "id": "380bb781-afa7-45aa-af08-98af2e4e43c1",
   "metadata": {},
   "outputs": [
    {
     "name": "stdin",
     "output_type": "stream",
     "text": [
      "Enter any scentence :  hi am rishi\n"
     ]
    },
    {
     "name": "stdout",
     "output_type": "stream",
     "text": [
      "The unique words are :  ['hi', 'am', 'rishi']\n"
     ]
    }
   ],
   "source": [
    "#45. Find all unique words in a strin\n",
    "\n",
    "string_1 = input('Enter any scentence : ')\n",
    "list_1 = string_1.split()\n",
    "list_2 = []\n",
    "for x in list_1:\n",
    "    if list_1.count(x)>1:\n",
    "        continue\n",
    "    else:\n",
    "        list_2.append(x)\n",
    "        \n",
    "\n",
    "print('The unique words are : ', list_2)"
   ]
  },
  {
   "cell_type": "code",
   "execution_count": 65,
   "id": "8319ca8c-ea5c-4587-9ceb-4e6aef7ab4cf",
   "metadata": {},
   "outputs": [
    {
     "name": "stdin",
     "output_type": "stream",
     "text": [
      "Enter any scentence :  hi am .rishi\n"
     ]
    },
    {
     "name": "stdout",
     "output_type": "stream",
     "text": [
      "yes, string contains special characters\n"
     ]
    }
   ],
   "source": [
    "#47. Check if a string contains any special characters.\n",
    "\n",
    "string_1 = input('Enter any scentence : ')\n",
    "list_1 = string_1.split()\n",
    "counter = 0\n",
    "\n",
    "for x in list_1:\n",
    "    if x.isalnum() == False:\n",
    "        counter += 1\n",
    "\n",
    "if counter:\n",
    "    print('yes, string contains special characters')\n",
    "    \n",
    "else:\n",
    "    print('No, string dont contains any special characters.')\n"
   ]
  },
  {
   "cell_type": "code",
   "execution_count": 85,
   "id": "cd878397-7972-4f45-9b64-2aef67618cfc",
   "metadata": {},
   "outputs": [
    {
     "name": "stdin",
     "output_type": "stream",
     "text": [
      "Enter any scentence :  hi am rishi and i am rishi\n",
      "Enter the index of word you want to remove :  3\n"
     ]
    },
    {
     "name": "stdout",
     "output_type": "stream",
     "text": [
      "hi am rishi i am rishi \n"
     ]
    }
   ],
   "source": [
    "#48. Remove the nth word from a string.\n",
    "\n",
    "string_1 = input('Enter any scentence : ')\n",
    "int_1 = int(input('Enter the index of word you want to remove : '))\n",
    "list_1 = string_1.split()\n",
    "string_2 = ''\n",
    "list_1.remove(list_1[int_1])\n",
    "for x in list_1:\n",
    "    string_2 = string_2 + x + ' '\n",
    "\n",
    "print(string_2)"
   ]
  },
  {
   "cell_type": "code",
   "execution_count": 27,
   "id": "d57127a7-8258-4380-94f1-c030077c0218",
   "metadata": {},
   "outputs": [
    {
     "name": "stdin",
     "output_type": "stream",
     "text": [
      "Enter any scentence :  hi am rishi hi am rishi\n",
      "Enter the word you want to add:  hello\n",
      "Enter the index position wehre you want to add the string :  4\n"
     ]
    },
    {
     "name": "stdout",
     "output_type": "stream",
     "text": [
      "hi am rishi hi hello am rishi "
     ]
    }
   ],
   "source": [
    "#49. Insert a word at the nth position in a string.\n",
    "\n",
    "string_1 = input('Enter any scentence : ')\n",
    "string_2 = input('Enter the word you want to add: ')\n",
    "n = int(input('Enter the index position wehre you want to add the string : '))\n",
    "counter = 0\n",
    "list_1 = string_1.split()\n",
    "list_2 = []\n",
    "\n",
    "for x in list_1:\n",
    "    counter = counter + 1\n",
    "    if counter == n:\n",
    "        list_2.append(x +' '+ string_2)\n",
    "    else:\n",
    "        list_2.append(x)\n",
    "        \n",
    "for x in list_2:\n",
    "    print(x,end=' ')\n"
   ]
  },
  {
   "cell_type": "code",
   "execution_count": 28,
   "id": "9b4398c1-eee8-4c3a-9d71-763a256e79f5",
   "metadata": {},
   "outputs": [
    {
     "name": "stdout",
     "output_type": "stream",
     "text": [
      "[['Numeric', 'Numeric-2', 'Numeric-Suffix'], ['1', '01', '1st'], ['2', '02', '2nd'], ['3', '03', '3rd'], ['4', '04', '4th'], ['5', '05', '5th'], ['6', '06', '6th'], ['7', '07', '7th'], ['8', '08', '8th'], ['9', '09', '9th'], ['10', '10', '10th'], ['11', '11', '11th'], ['12', '12', '12th'], ['13', '13', '13th'], ['14', '14', '14th'], ['15', '15', '15th'], ['16', '16', '16th'], ['17', '17', '17th'], ['18', '18', '18th'], ['19', '19', '19th'], ['20', '20', '20th'], ['21', '21', '21st'], ['22', '22', '22nd'], ['23', '23', '23rd'], ['24', '24', '24th'], ['25', '25', '25th'], ['26', '26', '26th'], ['27', '27', '27th'], ['28', '28', '28th'], ['29', '29', '29th'], ['30', '30', '30th'], ['31', '31', '31st']]\n"
     ]
    }
   ],
   "source": [
    "#50. Convert a CSV string to a list of lists\n",
    "\n",
    "import csv \n",
    "\n",
    "with open('day.csv', 'r') as read_obj: \n",
    "\n",
    "    csv_reader = csv.reader(read_obj) \n",
    "    list_of_csv = list(csv_reader) \n",
    "    print(list_of_csv) \n"
   ]
  },
  {
   "cell_type": "raw",
   "id": "2b00eb18-0ecc-41ee-8fef-94e3f7858c92",
   "metadata": {},
   "source": []
  },
  {
   "cell_type": "code",
   "execution_count": null,
   "id": "5405917c-352d-4ddd-962b-a5e741483ec8",
   "metadata": {},
   "outputs": [],
   "source": [
    "Topic: List Based Practice Problem "
   ]
  },
  {
   "cell_type": "code",
   "execution_count": 29,
   "id": "c031c0be-94ed-48bc-8f01-22f32b7a8ca6",
   "metadata": {},
   "outputs": [
    {
     "name": "stdout",
     "output_type": "stream",
     "text": [
      "[1, 2, 3, 4, 5, 6, 7, 8, 9, 10]\n"
     ]
    }
   ],
   "source": [
    "#1. Create a list with integers from 1 to 10.\n",
    "\n",
    "l1 = [1,2,3,4,5,6,7,8,9,10]\n",
    "print(l1)\n"
   ]
  },
  {
   "cell_type": "code",
   "execution_count": 33,
   "id": "1ee19160-932d-4796-803e-1d25bca3f161",
   "metadata": {},
   "outputs": [
    {
     "name": "stdout",
     "output_type": "stream",
     "text": [
      "length of list is : 10\n"
     ]
    }
   ],
   "source": [
    "#2. Find the length of a list without using the `len()` function.\n",
    "\n",
    "l1 = [1,2,3,4,5,6,7,8,9,10]\n",
    "counter = 0\n",
    "\n",
    "for x in l1:\n",
    "    counter += 1\n",
    "    \n",
    "print('length of list is :',counter)"
   ]
  },
  {
   "cell_type": "code",
   "execution_count": 51,
   "id": "dc0c30b5-062b-4f91-b070-0666a0ef4e8e",
   "metadata": {},
   "outputs": [
    {
     "name": "stdout",
     "output_type": "stream",
     "text": [
      "after appending  [1, 2, 3, 4, 5, 6, 7, 8, 9, 10, 11]\n"
     ]
    }
   ],
   "source": [
    "#3. Append an element to the end of a list\n",
    "\n",
    "l1 = [1,2,3,4,5,6,7,8,9,10]\n",
    "l1.append(11)\n",
    "print('after appending ',l1)"
   ]
  },
  {
   "cell_type": "code",
   "execution_count": 52,
   "id": "71933963-687f-48f1-ba4c-b03f0c8c6209",
   "metadata": {},
   "outputs": [
    {
     "name": "stdout",
     "output_type": "stream",
     "text": [
      "After inserting the element at specific index  [1, 2, 3, 4, 6, 6, 7, 8, 9, 10]\n"
     ]
    }
   ],
   "source": [
    "#4. Insert an element at a specific index in a list\n",
    "\n",
    "l1 = [1,2,3,4,5,6,7,8,9,10]\n",
    "l1[4]=6\n",
    "print('After inserting the element at specific index ', l1)"
   ]
  },
  {
   "cell_type": "code",
   "execution_count": 54,
   "id": "65d8228e-be07-4577-ba13-81a7a752a56c",
   "metadata": {},
   "outputs": [
    {
     "name": "stdout",
     "output_type": "stream",
     "text": [
      "After removing the element from a list by its value :  [1, 2, 3, 4, 5, 7, 8, 9, 10]\n"
     ]
    }
   ],
   "source": [
    "#5. Remove an element from a list by its value.\n",
    "\n",
    "l1 = [1,2,3,4,5,6,7,8,9,10]\n",
    "l1.remove(6)\n",
    "print('After removing the element from a list by its value : ',l1)"
   ]
  },
  {
   "cell_type": "code",
   "execution_count": 55,
   "id": "ed0956c0-3a15-476d-b142-b80e4a095f4b",
   "metadata": {},
   "outputs": [
    {
     "name": "stdout",
     "output_type": "stream",
     "text": [
      "Remove an element from a list by its index :  [1, 2, 3, 4, 6, 7, 8, 9, 10]\n"
     ]
    }
   ],
   "source": [
    "#6. Remove an element from a list by its index.\n",
    "\n",
    "l1 = [1,2,3,4,5,6,7,8,9,10]\n",
    "l1.pop(4)\n",
    "print('Remove an element from a list by its index : ',l1)"
   ]
  },
  {
   "cell_type": "code",
   "execution_count": 40,
   "id": "466c082c-0d17-48ec-baaf-e110ad3edc48",
   "metadata": {},
   "outputs": [
    {
     "data": {
      "text/plain": [
       "True"
      ]
     },
     "execution_count": 40,
     "metadata": {},
     "output_type": "execute_result"
    }
   ],
   "source": [
    "#7. Check if an element exists in a list.\n",
    "\n",
    "l1 = [1,2,3,4,5,6,7,8,9,10]\n",
    "\n",
    "3 in  l1\n",
    "\n",
    "#return's true if exist, else false."
   ]
  },
  {
   "cell_type": "code",
   "execution_count": 58,
   "id": "7d81c42b-b29c-4f83-9850-b39837b25274",
   "metadata": {},
   "outputs": [
    {
     "name": "stdout",
     "output_type": "stream",
     "text": [
      "The index of the first occurrence of an element in a list :  2\n"
     ]
    }
   ],
   "source": [
    "#8. Find the index of the first occurrence of an element in a list\n",
    "l1 = [1,2,3,3,3,4,5,6,7,8,9,10]\n",
    "z = l1.index(3)\n",
    "print('The index of the first occurrence of an element in a list : ',z)"
   ]
  },
  {
   "cell_type": "code",
   "execution_count": 59,
   "id": "04236c1f-f521-4848-8287-42957a518d28",
   "metadata": {},
   "outputs": [
    {
     "name": "stdout",
     "output_type": "stream",
     "text": [
      "The Count of occurrences of an element in a list :  5\n"
     ]
    }
   ],
   "source": [
    "#9. Count the occurrences of an element in a list\n",
    "\n",
    "l1 = [1,2,3,3,3,3,3,4,5,6,7,8,9,10]\n",
    "z = l1.count(3)\n",
    "print('The Count of occurrences of an element in a list : ',z)\n"
   ]
  },
  {
   "cell_type": "code",
   "execution_count": 60,
   "id": "75f36f56-2d12-47aa-8dd3-f1418ca50108",
   "metadata": {},
   "outputs": [
    {
     "name": "stdout",
     "output_type": "stream",
     "text": [
      "After reversing the string :  [10, 9, 8, 7, 6, 5, 4, 3, 2, 1]\n"
     ]
    }
   ],
   "source": [
    "#10. Reverse the order of elements in a list.\n",
    "\n",
    "l1 = [1,2,3,4,5,6,7,8,9,10]\n",
    "z = l1[::-1]\n",
    "print('After reversing the order of list : ',z)"
   ]
  },
  {
   "cell_type": "code",
   "execution_count": 69,
   "id": "a1fe673d-62f5-4e71-95b4-9384674c2858",
   "metadata": {},
   "outputs": [
    {
     "name": "stdout",
     "output_type": "stream",
     "text": [
      "ascending order of list :  [1, 2, 3, 4, 5, 6, 7, 8, 9, 10]\n"
     ]
    }
   ],
   "source": [
    "#11. Sort a list in ascending order.\n",
    "\n",
    "\n",
    "l1 = [1,4,5,3,2,6,8,9,7,10]\n",
    "l1.sort()\n",
    "print('ascending order of list : ', l1)"
   ]
  },
  {
   "cell_type": "code",
   "execution_count": 75,
   "id": "6713c64b-8f19-4534-9224-f69b2833c973",
   "metadata": {},
   "outputs": [
    {
     "name": "stdout",
     "output_type": "stream",
     "text": [
      "descending order of list :  [10, 9, 8, 7, 6, 5, 4, 3, 2, 1]\n"
     ]
    }
   ],
   "source": [
    "#12. Sort a list in descending order\n",
    "l1 = [1,4,5,3,2,6,8,9,7,10]\n",
    "l1.sort()\n",
    "print('descending order of list : ', l1[::-1])"
   ]
  },
  {
   "cell_type": "code",
   "execution_count": 79,
   "id": "6203ffa2-ad59-46f8-b524-fe9b4c1582dd",
   "metadata": {},
   "outputs": [
    {
     "name": "stdout",
     "output_type": "stream",
     "text": [
      "list of even numbers from 1 to 20 :  [2, 4, 6, 8, 10, 12, 14, 16, 18, 20]\n"
     ]
    }
   ],
   "source": [
    "#13. Create a list of even numbers from 1 to 20.\n",
    "\n",
    "list_even = []\n",
    "\n",
    "for x in range(1,21):\n",
    "    if x%2 == 0:\n",
    "        list_even.append(x)\n",
    "\n",
    "print('list of even numbers from 1 to 20 : ',list_even)\n"
   ]
  },
  {
   "cell_type": "code",
   "execution_count": 82,
   "id": "1bfa568a-948a-45d2-bdaa-1690ad62b66e",
   "metadata": {},
   "outputs": [
    {
     "name": "stdout",
     "output_type": "stream",
     "text": [
      "list of odd numbers from 1 to 20 :  [1, 3, 5, 7, 9, 11, 13, 15, 17, 19]\n"
     ]
    }
   ],
   "source": [
    "#14. Create a list of odd numbers from 1 to 20.\n",
    "\n",
    "list_odd = []\n",
    "\n",
    "for x in range(1,21):\n",
    "    if x%2 != 0:\n",
    "        list_odd.append(x)\n",
    "\n",
    "print('list of odd numbers from 1 to 20 : ',list_odd)"
   ]
  },
  {
   "cell_type": "code",
   "execution_count": 84,
   "id": "187f8f0e-74ac-4a62-acc3-2884fb42ac89",
   "metadata": {},
   "outputs": [
    {
     "name": "stdout",
     "output_type": "stream",
     "text": [
      "sum of all elements in a list l1 is  55\n"
     ]
    }
   ],
   "source": [
    "#15. Find the sum of all elements in a list\n",
    "\n",
    "l1 = [1,2,3,4,5,6,7,8,9,10]\n",
    "print('sum of all elements in a list l1 is ', sum(l1))"
   ]
  },
  {
   "cell_type": "code",
   "execution_count": 88,
   "id": "917fd371-d635-48b0-8539-4d81ce5ad448",
   "metadata": {},
   "outputs": [
    {
     "name": "stdout",
     "output_type": "stream",
     "text": [
      "maximum value in list is :  100\n"
     ]
    }
   ],
   "source": [
    "#16. Find the maximum value in a list.\n",
    "\n",
    "l1 = [1,2,3,4,5,100,6,7,8,9,10]\n",
    "maximum = 0\n",
    "\n",
    "for x in l1:\n",
    "    if x > maximum:\n",
    "        maximum = x\n",
    "\n",
    "print('maximum value in list is : ',maximum)"
   ]
  },
  {
   "cell_type": "code",
   "execution_count": 91,
   "id": "eda30146-8d44-4828-bc96-e0cee69d2b70",
   "metadata": {},
   "outputs": [
    {
     "name": "stdout",
     "output_type": "stream",
     "text": [
      "minimum value in a list is 1\n"
     ]
    }
   ],
   "source": [
    "#17. Find the minimum value in a list.\n",
    "\n",
    "l1 = [1,2,3,4,5,100,6,7,8,9,10]\n",
    "print('minimum value in a list is',min(l1))"
   ]
  },
  {
   "cell_type": "code",
   "execution_count": 93,
   "id": "e6feb51c-d5a6-49c3-9893-e88ab95e6d09",
   "metadata": {},
   "outputs": [
    {
     "name": "stdout",
     "output_type": "stream",
     "text": [
      "list of squares of numbers from 1 to 10 [1, 4, 9, 16, 25, 36, 49, 64, 81, 100]\n"
     ]
    }
   ],
   "source": [
    "#18. Create a list of squares of numbers from 1 to 10.\n",
    "\n",
    "list_1 = []\n",
    "for x in range(1,11):\n",
    "    list_1.append(x**2)\n",
    "\n",
    "print('list of squares of numbers from 1 to 10', list_1)"
   ]
  },
  {
   "cell_type": "code",
   "execution_count": 103,
   "id": "3f9ac936-009e-4f33-a236-ab8fd8c71316",
   "metadata": {},
   "outputs": [
    {
     "name": "stdout",
     "output_type": "stream",
     "text": [
      "list of random numbers [13, 16, 14, 12, 6]\n"
     ]
    }
   ],
   "source": [
    "#19. Create a list of random numbers\n",
    "\n",
    "import random\n",
    "list_1 = []\n",
    "for i in range(0,5):\n",
    "    n = random.randint(1,30)\n",
    "    list_1.append(n)\n",
    "\n",
    "print('list of random numbers',list_1)"
   ]
  },
  {
   "cell_type": "code",
   "execution_count": 107,
   "id": "6006f0d5-9e9e-4d72-af91-5efaec059227",
   "metadata": {},
   "outputs": [
    {
     "name": "stdout",
     "output_type": "stream",
     "text": [
      "After remove duplicates from a list [1, 2, 3, 4, 5, 6, 7, 8, 9, 10]\n"
     ]
    }
   ],
   "source": [
    "#20. Remove duplicates from a list.\n",
    "\n",
    "l1 = [1,2,3,3,3,3,3,4,5,6,7,8,9,10]\n",
    "print('After remove duplicates from a list',list(set(l1)))"
   ]
  },
  {
   "cell_type": "code",
   "execution_count": 4,
   "id": "b693e85a-99f1-4525-bb8a-7cea19612d9a",
   "metadata": {},
   "outputs": [
    {
     "name": "stdout",
     "output_type": "stream",
     "text": [
      "common elements between two lists are  [4, 5, 6]\n"
     ]
    }
   ],
   "source": [
    "#21. Find the common elements between two lists.\n",
    "\n",
    "list_1 = [1,2,3,4,5,6]\n",
    "list_2 = [4,5,6,7,8,9]\n",
    "list_3 = []\n",
    "for x in list_1:\n",
    "    if x in list_2:\n",
    "        list_3.append(x)\n",
    "\n",
    "print('common elements between two lists are ',list_3)"
   ]
  },
  {
   "cell_type": "code",
   "execution_count": 8,
   "id": "6fe02dc9-dd89-4f27-821d-76e5d2a301e4",
   "metadata": {},
   "outputs": [
    {
     "name": "stdout",
     "output_type": "stream",
     "text": [
      "difference in elements between two lists are  [1, 2, 3, 7, 8, 9]\n"
     ]
    }
   ],
   "source": [
    "#22. Find the difference between two lists\n",
    "\n",
    "list_1 = [1,2,3,4,5,6]\n",
    "list_2 = [4,5,6,7,8,9]\n",
    "list_3 = []\n",
    "for x in list_1:\n",
    "    if x not in list_2:\n",
    "        list_3.append(x)\n",
    "        \n",
    "for x in list_2:\n",
    "    if x not in list_1:\n",
    "        list_3.append(x)\n",
    "        \n",
    "print('difference in elements between two lists are ',list_3)"
   ]
  },
  {
   "cell_type": "code",
   "execution_count": 10,
   "id": "77ad26a2-6d12-4e1f-a930-4fd7f1bc72a0",
   "metadata": {},
   "outputs": [
    {
     "name": "stdout",
     "output_type": "stream",
     "text": [
      "After Merging two lists [1, 2, 3, 4, 5, 6, 4, 5, 6, 7, 8, 9]\n"
     ]
    }
   ],
   "source": [
    "#23. Merge two lists\n",
    "\n",
    "list_1 = [1,2,3,4,5,6]\n",
    "list_2 = [4,5,6,7,8,9]\n",
    "list_3 = list_1 + list_2\n",
    "print('After Merging two lists',list_3)"
   ]
  },
  {
   "cell_type": "code",
   "execution_count": 11,
   "id": "05cbc695-b699-434c-9d5e-178be4a4577e",
   "metadata": {},
   "outputs": [
    {
     "name": "stdout",
     "output_type": "stream",
     "text": [
      "After multiplying all elements in a list by 2 :  [2, 4, 6, 8, 10, 12]\n"
     ]
    }
   ],
   "source": [
    "#24. Multiply all elements in a list by 2.\n",
    "\n",
    "list_1 = [1,2,3,4,5,6]\n",
    "list_2 = []\n",
    "for x in list_1:\n",
    "    list_2.append(x*2)\n",
    "    \n",
    "    \n",
    "print('After multiplying all elements in a list by 2 : ', list_2)"
   ]
  },
  {
   "cell_type": "code",
   "execution_count": 12,
   "id": "f5f34412-8914-403c-b9d1-df12b0f611ec",
   "metadata": {},
   "outputs": [
    {
     "name": "stdout",
     "output_type": "stream",
     "text": [
      "Even numbers in list are :  [2, 4, 6]\n"
     ]
    }
   ],
   "source": [
    "#25. Filter out all even numbers from a list.\n",
    "\n",
    "\n",
    "list_1 = [1,2,3,4,5,6]\n",
    "list_even= []\n",
    "for x in list_1:\n",
    "    if x%2 == 0:\n",
    "        list_even.append(x)\n",
    "\n",
    "print('Even numbers in list are : ',list_even)"
   ]
  },
  {
   "cell_type": "code",
   "execution_count": 13,
   "id": "486ddb7d-1a08-4f22-91de-322063f4c149",
   "metadata": {},
   "outputs": [
    {
     "name": "stdout",
     "output_type": "stream",
     "text": [
      "After converting from string to int :  [1, 2, 3, 4, 5, 6]\n"
     ]
    }
   ],
   "source": [
    "#26. Convert a list of strings to a list of integers.\n",
    "\n",
    "list_1 = ['1','2','3','4','5','6']\n",
    "list_2 = []\n",
    "for x in list_1:\n",
    "    list_2.append(int(x))\n",
    "\n",
    "print('After converting from string to int : ',list_2)"
   ]
  },
  {
   "cell_type": "code",
   "execution_count": 14,
   "id": "14bee5fd-b775-483b-bfba-4c5eb29ad111",
   "metadata": {},
   "outputs": [
    {
     "name": "stdout",
     "output_type": "stream",
     "text": [
      "After converting from int to string :  ['1', '2', '3', '4', '5', '6']\n"
     ]
    }
   ],
   "source": [
    "#27. Convert a list of integers to a list of strings\n",
    "\n",
    "list_1 = [1,2,3,4,5,6]\n",
    "list_2 = []\n",
    "for x in list_1:\n",
    "    list_2.append(str(x))\n",
    "    \n",
    "print('After converting from int to string : ',list_2)"
   ]
  },
  {
   "cell_type": "code",
   "execution_count": 17,
   "id": "8d14bdfe-6077-4e9e-9b31-300a2aae372e",
   "metadata": {},
   "outputs": [
    {
     "name": "stdout",
     "output_type": "stream",
     "text": [
      "After flattening a nested list [1, 2, 3, 4, 5, 6, 7]\n"
     ]
    }
   ],
   "source": [
    "#28. Flatten a nested list\n",
    "\n",
    "list_1 = [[1], [2, 3], [4, 5, 6, 7]]\n",
    "list_2 = []\n",
    "for x in list_1:\n",
    "    for y in x:\n",
    "        list_2.append(y)\n",
    "        \n",
    "print('After flattening a nested list', list_2)"
   ]
  },
  {
   "cell_type": "code",
   "execution_count": 20,
   "id": "32ab4cc8-e6c7-4db3-aff8-9c4da2450f04",
   "metadata": {},
   "outputs": [
    {
     "name": "stdout",
     "output_type": "stream",
     "text": [
      "[0, 1, 1, 2, 3, 5, 8, 13, 21, 34]\n"
     ]
    }
   ],
   "source": [
    "#29. Create a list of the first 10 Fibonacci numbers.\n",
    "\n",
    "#0 1 1 2 3 5 8 13 21 34\n",
    "\n",
    "list_1  = []\n",
    "start =  0 \n",
    "for x in range(0,10):\n",
    "    if x <= 1 :\n",
    "        list_1.append(x)\n",
    "    else:\n",
    "        y  = (list_1[-1]) + (list_1[-2])\n",
    "        list_1.append(y)\n",
    "\n",
    "print(list_1)\n",
    "        "
   ]
  },
  {
   "cell_type": "code",
   "execution_count": 30,
   "id": "8927adb7-9649-4a77-8168-ac4f93e2f8cb",
   "metadata": {},
   "outputs": [
    {
     "name": "stdout",
     "output_type": "stream",
     "text": [
      "The list is sorted\n"
     ]
    }
   ],
   "source": [
    "#Check if a list is sorted.\n",
    "\n",
    "list_1 = [1,2,3,4,5,6]\n",
    "counter = 0\n",
    "for x in list_1 :\n",
    "    if counter < x :\n",
    "        counter = x\n",
    "    else :\n",
    "        print('The list is not sorted')\n",
    "        break\n",
    "if counter == list_1[-1]:\n",
    "    print('The list is sorted')"
   ]
  },
  {
   "cell_type": "code",
   "execution_count": 37,
   "id": "485d6b86-0ae1-4aee-8a7d-58b670b4596c",
   "metadata": {},
   "outputs": [
    {
     "name": "stdin",
     "output_type": "stream",
     "text": [
      "Enter the value of n to rotate the list :  2\n"
     ]
    },
    {
     "name": "stdout",
     "output_type": "stream",
     "text": [
      "[3, 4, 5, 6, 7, 8, 9, 10, 1, 2]\n"
     ]
    }
   ],
   "source": [
    "#31. Rotate a list to the left by `n` positions.\n",
    "\n",
    "list_1 = [1,2,3,4,5,6,7,8,9,10]\n",
    "n = int(input('Enter the value of n to rotate the list : '))\n",
    "list_2 = list_1[n::] + list_1[0:n]\n",
    "print('After rotating a list to the left : ', list_2)"
   ]
  },
  {
   "cell_type": "code",
   "execution_count": 49,
   "id": "94600459-e841-4f99-b4db-152f855bcedd",
   "metadata": {},
   "outputs": [
    {
     "name": "stdin",
     "output_type": "stream",
     "text": [
      "Enter the value of n to rotate the list :  2\n"
     ]
    },
    {
     "name": "stdout",
     "output_type": "stream",
     "text": [
      "After rotating a list to the right :  [10, 9, 1, 2, 3, 4, 5, 6, 7, 8]\n"
     ]
    }
   ],
   "source": [
    "#32. Rotate a list to the right by `n` positions.\n",
    "\n",
    "list_1 = [1,2,3,4,5,6,7,8,9,10]\n",
    "n = int(input('Enter the value of n to rotate the list : '))\n",
    "list_2 = list_1[-1:-(n+1):-1] + list_1[0:-n]\n",
    "print('After rotating a list to the right : ', list_2)"
   ]
  },
  {
   "cell_type": "code",
   "execution_count": 72,
   "id": "cd08396b-2aa7-4457-a8bd-332245b852cc",
   "metadata": {},
   "outputs": [
    {
     "data": {
      "text/plain": [
       "[2, 3, 5, 7, 11, 13, 17, 19, 23, 29, 31, 37, 41, 43, 47]"
      ]
     },
     "execution_count": 72,
     "metadata": {},
     "output_type": "execute_result"
    }
   ],
   "source": [
    "#33. Create a list of prime numbers up to 50.\n",
    "\n",
    "list_1= []\n",
    "\n",
    "for x in range(2,50):\n",
    "    for y in range(2,50):\n",
    "        if x % y == 0:\n",
    "            break\n",
    "    if x == y:\n",
    "        list_1.append(x)\n",
    "        \n",
    "list_1"
   ]
  },
  {
   "cell_type": "code",
   "execution_count": 79,
   "id": "e5af4fa8-7084-4bb5-853b-29805ea98470",
   "metadata": {},
   "outputs": [
    {
     "name": "stdin",
     "output_type": "stream",
     "text": [
      "Enter the chunk size :  2\n"
     ]
    },
    {
     "data": {
      "text/plain": [
       "[[1, 2], [3, 4], [5, 6], [7, 8], [9, 10]]"
      ]
     },
     "execution_count": 79,
     "metadata": {},
     "output_type": "execute_result"
    }
   ],
   "source": [
    "#34. Split a list into chunks of size `n`.\n",
    "\n",
    "list_1 = [1,2,3,4,5,6,7,8,9,10]\n",
    "list_2 = []\n",
    "n = int(input('Enter the chunk size : '))\n",
    "\n",
    "for x in range(0, round(len(list_1)/n)):\n",
    "    a = list_1[0:n]\n",
    "    list_2.append(a)\n",
    "    del list_1[0:n]\n",
    "\n",
    "list_2"
   ]
  },
  {
   "cell_type": "code",
   "execution_count": 85,
   "id": "8576ce06-ad5b-4078-871b-8291b7f01ba1",
   "metadata": {},
   "outputs": [
    {
     "name": "stdout",
     "output_type": "stream",
     "text": [
      "second largest number in a list :  40\n"
     ]
    }
   ],
   "source": [
    "#35. Find the second largest number in a list.\n",
    "\n",
    "list_1 = [1,2,3,4,5,10,30,40,6,7,8,9,100]\n",
    "n = 0\n",
    "for x in list_1:\n",
    "    if n < x and x<max(list_1):\n",
    "        n = x\n",
    "\n",
    "print('second largest number in a list : ',n)"
   ]
  },
  {
   "cell_type": "code",
   "execution_count": 86,
   "id": "0cd27a8e-9e1e-4914-bc8c-54b61abbb589",
   "metadata": {},
   "outputs": [
    {
     "name": "stdout",
     "output_type": "stream",
     "text": [
      "[1, 4, 9, 16, 25, 36, 49, 64, 81, 100]\n"
     ]
    }
   ],
   "source": [
    "#36. Replace every element in a list with its square\n",
    "\n",
    "list_1 = [1,2,3,4,5,6,7,8,9,10]\n",
    "list_2 = []\n",
    "for x in list_1:\n",
    "    list_2.append(x**2)\n",
    "print(list_2)"
   ]
  },
  {
   "cell_type": "code",
   "execution_count": 100,
   "id": "6b92f2ed-a039-4a65-b682-02bc772c6bf8",
   "metadata": {},
   "outputs": [
    {
     "name": "stdout",
     "output_type": "stream",
     "text": [
      "{1: 0, 2: 1, 3: 2, 4: 3, 5: 4, 6: 5, 7: 6, 8: 7, 9: 8, 10: 9}\n"
     ]
    }
   ],
   "source": [
    "'''37. Convert a list to a dictionary where list elements become keys and their\n",
    "indices become values.'''\n",
    "\n",
    "list_1 = [1,2,3,4,5,6,7,8,9,10]\n",
    "dict_1= {}\n",
    "for x in list_1:\n",
    "    dict_1.update({x:(list_1.index(x))})\n",
    "print(dict_1)\n",
    "\n"
   ]
  },
  {
   "cell_type": "code",
   "execution_count": 104,
   "id": "8a8b5573-87d2-45fd-bec4-0c5d9c896f93",
   "metadata": {},
   "outputs": [
    {
     "data": {
      "text/plain": [
       "[2, 5, 6, 7, 4, 8, 3, 10, 9, 1]"
      ]
     },
     "execution_count": 104,
     "metadata": {},
     "output_type": "execute_result"
    }
   ],
   "source": [
    "#38. Shuffle the elements of a list randomly\n",
    "\n",
    "import random\n",
    "list_1 = [1,2,3,4,5,6,7,8,9,10]\n",
    "random.shuffle(list_1)\n",
    "list_1"
   ]
  },
  {
   "cell_type": "code",
   "execution_count": 125,
   "id": "034c33a0-aa39-4f75-a949-63883bf580a4",
   "metadata": {},
   "outputs": [
    {
     "name": "stdout",
     "output_type": "stream",
     "text": [
      "[1, 2, 6, 24, 120, 720, 5040, 40320, 362880, 3628800]\n"
     ]
    }
   ],
   "source": [
    "#39. Create a list of the first 10 factorial numbers.\n",
    "\n",
    "counter = 0\n",
    "list_1 = []\n",
    "for x in range(0,11):\n",
    "    for y in range(1,x+1):\n",
    "        counter = counter * y\n",
    "    if counter != 0:\n",
    "        list_1.append(counter)\n",
    "    counter = 1\n",
    "print(list_1)\n",
    "    "
   ]
  },
  {
   "cell_type": "code",
   "execution_count": 132,
   "id": "8d903cba-b9b0-461f-8fef-6646d0419712",
   "metadata": {},
   "outputs": [
    {
     "name": "stdout",
     "output_type": "stream",
     "text": [
      "yes, have common element\n"
     ]
    }
   ],
   "source": [
    "#40. Check if two lists have at least one element in common\n",
    "\n",
    "list_1 = [1,2,3,4]\n",
    "list_2 = [4,5,6,7,8,9]\n",
    "list_3 = []\n",
    "for x in list_1:\n",
    "    if x in list_2:\n",
    "        list_3.append(x)\n",
    "\n",
    "if list_3 != []:\n",
    "    print('yes, have common element')\n",
    "else:\n",
    "    print('No, dont have common element')"
   ]
  },
  {
   "cell_type": "code",
   "execution_count": 134,
   "id": "fef34ef9-7500-4b54-8bde-8315913d74d7",
   "metadata": {},
   "outputs": [
    {
     "name": "stdout",
     "output_type": "stream",
     "text": [
      "[]\n"
     ]
    }
   ],
   "source": [
    "#41. Remove all elements from a list.\n",
    "\n",
    "list_1 = [1,2,3,4]\n",
    "list_1.clear()\n",
    "print(list_1)"
   ]
  },
  {
   "cell_type": "code",
   "execution_count": 137,
   "id": "8e9650ca-9380-43dd-8494-dbb82ab8382f",
   "metadata": {},
   "outputs": [
    {
     "name": "stdout",
     "output_type": "stream",
     "text": [
      "after replacing by 0 :  [1, 0, 3, 4, 0, 6, 7, 8, 0, 10]\n"
     ]
    }
   ],
   "source": [
    "#42. Replace negative numbers in a list with 0.\n",
    "\n",
    "\n",
    "list_1 = [1,-2,3,4,-5,6,7,8,-9,10]\n",
    "list_2 = []\n",
    "\n",
    "for x in list_1:\n",
    "    if x < 0:\n",
    "        list_2.append(0)\n",
    "    else:\n",
    "        list_2.append(x)\n",
    "\n",
    "print('after replacing by 0 : ', list_2)\n",
    "    "
   ]
  },
  {
   "cell_type": "code",
   "execution_count": 139,
   "id": "f616a087-c26c-462a-aba4-6ad0c1a4d31d",
   "metadata": {},
   "outputs": [
    {
     "name": "stdout",
     "output_type": "stream",
     "text": [
      "['hi', 'am', 'rishi']\n"
     ]
    }
   ],
   "source": [
    "#43. Convert a string into a list of words\n",
    "\n",
    "string_1  = 'hi am rishi'\n",
    "list_1 = []\n",
    "list_1 = string_1.split()\n",
    "print(list_1)"
   ]
  },
  {
   "cell_type": "code",
   "execution_count": 140,
   "id": "61fb78f5-8003-49bf-902d-2c836481c169",
   "metadata": {},
   "outputs": [
    {
     "name": "stdout",
     "output_type": "stream",
     "text": [
      "hi am rishi "
     ]
    }
   ],
   "source": [
    "#44. Convert a list of words into a string\n",
    "\n",
    "list_1 = ['hi', 'am', 'rishi']\n",
    "string_1 = '' \n",
    "for x in list_1:\n",
    "    print(x,end=' ')\n"
   ]
  },
  {
   "cell_type": "code",
   "execution_count": 144,
   "id": "2e6c3d0e-b379-4c7c-afde-d6b1cf906dbe",
   "metadata": {},
   "outputs": [
    {
     "name": "stdin",
     "output_type": "stream",
     "text": [
      " the value of n:  4\n"
     ]
    },
    {
     "name": "stdout",
     "output_type": "stream",
     "text": [
      "list of the first `n` powers of 2 is  [2, 4, 8, 16]\n"
     ]
    }
   ],
   "source": [
    "#45. Create a list of the first `n` powers of 2.\n",
    "\n",
    "n = int(input(' the value of n: '))\n",
    "list_1 = []\n",
    "for x in range(1,n+1):\n",
    "    list_1.append(2**x)\n",
    "    \n",
    "print('list of the first `n` powers of 2 is ',list_1)\n",
    "    "
   ]
  },
  {
   "cell_type": "code",
   "execution_count": 149,
   "id": "780a7b85-90e3-49a0-b750-318b72026d2f",
   "metadata": {},
   "outputs": [
    {
     "name": "stdout",
     "output_type": "stream",
     "text": [
      " longest string in a list of strings is rishi\n"
     ]
    }
   ],
   "source": [
    "#46. Find the longest string in a list of strings.\n",
    "\n",
    "list_1 = ['hi', 'am', 'rishi','hello']\n",
    "counter = 0\n",
    "word = ''\n",
    "for x in list_1:\n",
    "    if counter < len(x):\n",
    "        counter = len(x)\n",
    "        word = x\n",
    "\n",
    "print(' longest string in a list of strings is',word)\n",
    "    \n",
    "    "
   ]
  },
  {
   "cell_type": "code",
   "execution_count": 159,
   "id": "8b6777e9-be3f-4241-a2be-62800b63b5c2",
   "metadata": {},
   "outputs": [
    {
     "name": "stdout",
     "output_type": "stream",
     "text": [
      " Shortest string in a list of strings is :  am\n"
     ]
    }
   ],
   "source": [
    "#47. Find the shortest string in a list of strings.\n",
    "\n",
    "list_1 = ['hello', 'am', 'Hrishikesh']\n",
    "list_2 = []\n",
    "\n",
    "for x in list_1:\n",
    "    list_2.append(len(x))\n",
    "    \n",
    "print(' Shortest string in a list of strings is : ',list_1[list_2.index(min(list_2))])\n",
    "    \n"
   ]
  },
  {
   "cell_type": "code",
   "execution_count": 162,
   "id": "ddee6a3f-1c3b-4b00-9e07-fbb983c5f69c",
   "metadata": {},
   "outputs": [
    {
     "name": "stdin",
     "output_type": "stream",
     "text": [
      "Enter the value of n :  5\n"
     ]
    },
    {
     "name": "stdout",
     "output_type": "stream",
     "text": [
      "[1, 3, 6, 10, 15]\n"
     ]
    }
   ],
   "source": [
    "#48. Create a list of the first `n` triangular numbers\n",
    "#s1 =  (1+0) (2+1) (3+3) (4+6) (5+10)......\n",
    "#s2 =   1     3     6     10    15 ......\n",
    "\n",
    "list_1 = []\n",
    "n = int(input('Enter the value of n : '))\n",
    "s1 = 0\n",
    "s2 = 0\n",
    "for x in range(1,n+1):\n",
    "    s1 = s2+x\n",
    "    list_1.append(s1)\n",
    "    s2 = s1\n",
    "\n",
    "    \n",
    "print(list_1)\n",
    "    "
   ]
  },
  {
   "cell_type": "code",
   "execution_count": 11,
   "id": "59a855a2-c3e5-4631-8576-53b352c07f41",
   "metadata": {},
   "outputs": [
    {
     "name": "stdout",
     "output_type": "stream",
     "text": [
      "Yes,list contains another list as a subsequence\n"
     ]
    }
   ],
   "source": [
    "#49. Check if a list contains another list as a subsequence\n",
    "\n",
    "list_1 = [1,2,3,4,5,6]\n",
    "list_2 = [4,5,6]\n",
    "list_3 = []\n",
    "n = len(list_2)\n",
    "counter = 0\n",
    "for x in list_1:\n",
    "    list_3.append(list_1[counter:(counter + n)])\n",
    "    counter = counter +1\n",
    "if list_2 in list_3:\n",
    "    print('Yes,list contains another list as a subsequence')\n",
    "else:\n",
    "    print('No,list dont contains another list as a subsequence')"
   ]
  },
  {
   "cell_type": "code",
   "execution_count": 13,
   "id": "f0596f91-1f0e-4441-b1ae-b9e6afc0dd58",
   "metadata": {},
   "outputs": [
    {
     "name": "stdout",
     "output_type": "stream",
     "text": [
      "After swapping :  [1, 2, 6, 4, 5, 3]\n"
     ]
    }
   ],
   "source": [
    "#50. Swap two elements in a list by their indices.\n",
    "\n",
    "\n",
    "list_1 = [1,2,3,4,5,6]\n",
    "(list_1[2],list_1[5]) = (list_1[5],list_1[2])\n",
    "print('After swapping : ',list_1)"
   ]
  },
  {
   "cell_type": "code",
   "execution_count": null,
   "id": "cc0f9238-31b2-4846-b655-24c3ccb29596",
   "metadata": {},
   "outputs": [],
   "source": []
  },
  {
   "cell_type": "raw",
   "id": "7ab5a542-0824-4cce-a1dd-8511bd0c3408",
   "metadata": {},
   "source": [
    "Topic - Tuple Based Practice Problem "
   ]
  },
  {
   "cell_type": "code",
   "execution_count": null,
   "id": "2b217713-3568-4fd9-abc1-a864a02e5f96",
   "metadata": {},
   "outputs": [],
   "source": []
  },
  {
   "cell_type": "code",
   "execution_count": 20,
   "id": "be5b6c1d-bcb3-4ace-acdc-475d714759a6",
   "metadata": {},
   "outputs": [
    {
     "name": "stdout",
     "output_type": "stream",
     "text": [
      "(1, 2, 3, 4, 5)\n"
     ]
    }
   ],
   "source": [
    "#1. Create a tuple with integers from 1 to 5.\n",
    "\n",
    "tuple_1 = (1,2,3,4,5)\n",
    "print(tuple_1)"
   ]
  },
  {
   "cell_type": "code",
   "execution_count": 21,
   "id": "1807e1fa-d558-47f5-b31b-489d19ac1822",
   "metadata": {},
   "outputs": [
    {
     "name": "stdout",
     "output_type": "stream",
     "text": [
      "Third element of a tuple is 3\n"
     ]
    }
   ],
   "source": [
    "#2. Access the third element of a tuple.\n",
    "\n",
    "tuple_1 = (1,2,3,4,5)\n",
    "print('Third element of a tuple is',tuple_1[2])\n"
   ]
  },
  {
   "cell_type": "code",
   "execution_count": 22,
   "id": "166a740e-c314-4a5d-98f7-80938eec9a5d",
   "metadata": {},
   "outputs": [
    {
     "name": "stdout",
     "output_type": "stream",
     "text": [
      "length of tuple is :  5\n"
     ]
    }
   ],
   "source": [
    "#3. Find the length of a tuple without using the `len()` function.\n",
    "\n",
    "tuple_1 = (1,2,3,4,5)\n",
    "counter = 0\n",
    "for x in tuple_1:\n",
    "    counter += 1\n",
    "print('length of tuple is : ',counter)"
   ]
  },
  {
   "cell_type": "code",
   "execution_count": 24,
   "id": "02d87685-9569-455c-a3b1-bb07619b1e0e",
   "metadata": {},
   "outputs": [
    {
     "name": "stdout",
     "output_type": "stream",
     "text": [
      "occurrences of 3 in tuple is :  4\n"
     ]
    }
   ],
   "source": [
    "#4. Count the occurrences of an element in a tuple.\n",
    "\n",
    "tuple_1 = (1,2,3,4,5,3,3,3)\n",
    "print('occurrences of 3 in tuple is : ', tuple_1.count(3))"
   ]
  },
  {
   "cell_type": "code",
   "execution_count": 26,
   "id": "cfb9c8c0-405c-4b20-9978-9eac183ecb16",
   "metadata": {},
   "outputs": [
    {
     "name": "stdout",
     "output_type": "stream",
     "text": [
      "index of the first occurrence of an element in a tuple is :  2\n"
     ]
    }
   ],
   "source": [
    "#5. Find the index of the first occurrence of an element in a tuple.\n",
    "\n",
    "tuple_1 = (1,2,3,4,5,3,7,3)\n",
    "print('index of the first occurrence of an element in a tuple is : ',tuple_1.index(3))\n"
   ]
  },
  {
   "cell_type": "code",
   "execution_count": 31,
   "id": "757bda75-4a92-4a47-a373-b468cf0b8190",
   "metadata": {},
   "outputs": [
    {
     "name": "stdin",
     "output_type": "stream",
     "text": [
      "Input any number :  7\n"
     ]
    },
    {
     "name": "stdout",
     "output_type": "stream",
     "text": [
      "yes,element exists in a tuple \n"
     ]
    }
   ],
   "source": [
    "#6. Check if an element exists in a tuple.\n",
    "\n",
    "tuple_1 = (1,2,3,4,5,3,7,3)\n",
    "n = int(input('Input any number : '))\n",
    "if n in tuple_1:\n",
    "    print('yes,element exists in a tuple ')\n",
    "else:\n",
    "    print('No, element dont exists in a tuple')\n"
   ]
  },
  {
   "cell_type": "code",
   "execution_count": 33,
   "id": "27792f39-ece4-4c6e-b2d1-49a7a58b866d",
   "metadata": {},
   "outputs": [
    {
     "name": "stdout",
     "output_type": "stream",
     "text": [
      "[1, 2, 3, 4, 5, 3, 7, 3]\n"
     ]
    }
   ],
   "source": [
    "#7. Convert a tuple to a list.\n",
    "\n",
    "\n",
    "tuple_1 = (1,2,3,4,5,3,7,3)\n",
    "\n",
    "list_1 = list(tuple_1)\n",
    "\n",
    "print(list_1)"
   ]
  },
  {
   "cell_type": "code",
   "execution_count": 35,
   "id": "85935e96-c2e7-41dc-9ff9-5a941fdd1b26",
   "metadata": {},
   "outputs": [
    {
     "data": {
      "text/plain": [
       "(1, 2, 3, 4, 5, 3, 7, 3)"
      ]
     },
     "execution_count": 35,
     "metadata": {},
     "output_type": "execute_result"
    }
   ],
   "source": [
    "# 8. Convert a list to a tuple.\n",
    "\n",
    "list_1 = [1, 2, 3, 4, 5, 3, 7, 3]\n",
    "tuple_1 = tuple(list_1)\n",
    "tuple_1"
   ]
  },
  {
   "cell_type": "code",
   "execution_count": 38,
   "id": "8b621e53-9076-451f-a1a9-9b0a8705746a",
   "metadata": {},
   "outputs": [
    {
     "name": "stdout",
     "output_type": "stream",
     "text": [
      "After unpacking first 2 emelents :  1 2 [3, 4, 5, 3, 7, 3]\n"
     ]
    }
   ],
   "source": [
    "#9. Unpack the elements of a tuple into variables.\n",
    "\n",
    "list_1 = [1, 2, 3, 4, 5, 3, 7, 3]\n",
    "a, b, *c = list_1\n",
    "print('After unpacking first 2 emelents : ',a,b,c)"
   ]
  },
  {
   "cell_type": "code",
   "execution_count": 49,
   "id": "1b7dc550-d3c1-4763-b150-a8f374e6a7da",
   "metadata": {},
   "outputs": [
    {
     "name": "stdout",
     "output_type": "stream",
     "text": [
      "tuple of even numbers from 1 to 10 :  (2, 4, 6, 8, 10)\n"
     ]
    }
   ],
   "source": [
    "#10. Create a tuple of even numbers from 1 to 10.\n",
    "\n",
    "list_1 = []\n",
    "for x in range(1,11):\n",
    "    if x %2==0:\n",
    "        list_1.append(x)\n",
    "    \n",
    "print('tuple of even numbers from 1 to 10 : ',tuple(list_1))"
   ]
  },
  {
   "cell_type": "code",
   "execution_count": 50,
   "id": "2f9635e4-fdfa-4042-a47a-ef61bf1bceab",
   "metadata": {},
   "outputs": [
    {
     "name": "stdout",
     "output_type": "stream",
     "text": [
      "tuple of odd numbers from 1 to 10 :  (1, 3, 5, 7, 9)\n"
     ]
    }
   ],
   "source": [
    "#11. Create a tuple of odd numbers from 1 to 10\n",
    "\n",
    "list_1 = []\n",
    "for x in range(1,11):\n",
    "    if x %2!=0:\n",
    "        list_1.append(x)\n",
    "    \n",
    "print('tuple of odd numbers from 1 to 10 : ',tuple(list_1))"
   ]
  },
  {
   "cell_type": "code",
   "execution_count": 52,
   "id": "ebd1f901-4489-4eaa-aa59-9e5bdb4f949b",
   "metadata": {},
   "outputs": [
    {
     "name": "stdout",
     "output_type": "stream",
     "text": [
      "After Concatenating two tuples :  (1, 2, 3, 4, 5, 6, 7, 8)\n"
     ]
    }
   ],
   "source": [
    "#12. Concatenate two tuples.\n",
    "\n",
    "tuple_1 = (1,2,3,4)\n",
    "tuple_2 = (5,6,7,8)\n",
    "print('After Concatenating two tuples : ',tuple_1 + tuple_2)\n"
   ]
  },
  {
   "cell_type": "code",
   "execution_count": 53,
   "id": "8d5efd3d-8272-4aa8-8afd-e74222e7d9a7",
   "metadata": {},
   "outputs": [
    {
     "name": "stdout",
     "output_type": "stream",
     "text": [
      "After  a tuple three times :  (1, 2, 3, 4, 1, 2, 3, 4, 1, 2, 3, 4)\n"
     ]
    }
   ],
   "source": [
    "#13. Repeat a tuple three times.\n",
    "tuple_1 = (1,2,3,4)\n",
    "print('After  a tuple three times : ',tuple_1*3)\n"
   ]
  },
  {
   "cell_type": "code",
   "execution_count": 15,
   "id": "94283c03-8e89-40bc-85dc-87cb313dc22c",
   "metadata": {},
   "outputs": [
    {
     "name": "stdin",
     "output_type": "stream",
     "text": [
      "Enter elements :  \n"
     ]
    },
    {
     "name": "stdout",
     "output_type": "stream",
     "text": [
      "yes, tuple is empty.\n"
     ]
    }
   ],
   "source": [
    "#14. Check if a tuple is empty.\n",
    "\n",
    "tuple_1 = tuple(input('Enter elements : '))\n",
    "if len(tuple_1) == 0:\n",
    "    print('yes, tuple is empty.')\n",
    "else:\n",
    "    print(tuple_1)\n",
    "    print('No, tuple is not  empty.')\n",
    "    \n",
    "#if you dont enter anything in input it will return empty tuple\n",
    "#if you enter anything incluidng space will consier it as emement and will return non-empty tuple.\n"
   ]
  },
  {
   "cell_type": "code",
   "execution_count": 28,
   "id": "f5273556-1d31-41e9-892e-ed4d30944232",
   "metadata": {},
   "outputs": [
    {
     "data": {
      "text/plain": [
       "(1, 2, 3, 4, 5, (6, 7, 8))"
      ]
     },
     "execution_count": 28,
     "metadata": {},
     "output_type": "execute_result"
    }
   ],
   "source": [
    "#15. Create a nested tuple.\n",
    "\n",
    "tuple_1 = (1,2,3,4,5)\n",
    "tuple_2 = (6,7,8)\n",
    "list_1 = list(tuple_1)\n",
    "list_1.append(tuple_2)\n",
    "tuple(list_1)"
   ]
  },
  {
   "cell_type": "code",
   "execution_count": 32,
   "id": "7c1cc4d7-ec5d-4595-a6aa-11047a437d19",
   "metadata": {},
   "outputs": [
    {
     "name": "stdout",
     "output_type": "stream",
     "text": [
      "first element of a nested tuple is :  6\n"
     ]
    }
   ],
   "source": [
    "#16. Access the first element of a nested tuple.\n",
    "tuple_1 = (1, 2, 3, 4, 5, (6, 7, 8))\n",
    "for x in tuple_1:\n",
    "    if len(str(x)) >  1:\n",
    "        print('first element of a nested tuple is : ', x[0])"
   ]
  },
  {
   "cell_type": "code",
   "execution_count": 33,
   "id": "a121b1aa-e00f-4c28-a8f4-a88cd173cbcd",
   "metadata": {},
   "outputs": [
    {
     "data": {
      "text/plain": [
       "1"
      ]
     },
     "execution_count": 33,
     "metadata": {},
     "output_type": "execute_result"
    }
   ],
   "source": [
    "#17. Create a tuple with a single element.\n",
    "tuple_1 = (1)\n",
    "tuple_1"
   ]
  },
  {
   "cell_type": "code",
   "execution_count": 36,
   "id": "42ab378c-3672-42cf-9a17-8e8aa844d068",
   "metadata": {},
   "outputs": [
    {
     "name": "stdout",
     "output_type": "stream",
     "text": [
      "Elements in tuple_1 is smaller than tuple_2 :  True\n",
      "Elements in tuple_1 is gretter than tuple_2 :  False\n",
      "Elements in tuple_1 is equal to tuple_2 :  False\n"
     ]
    }
   ],
   "source": [
    "#18. Compare two tuples\n",
    "\n",
    "tuple_1 = (1,2,3,4,5)\n",
    "tuple_2 = (6,7,8)\n",
    "print('Elements in tuple_1 is smaller than tuple_2 : ',tuple_1 < tuple_2)\n",
    "print('Elements in tuple_1 is gretter than tuple_2 : ',tuple_1 > tuple_2)\n",
    "print('Elements in tuple_1 is equal to tuple_2 : ',tuple_1 == tuple_2)\n"
   ]
  },
  {
   "cell_type": "code",
   "execution_count": 44,
   "id": "8ae795ea-46b5-4b05-b47c-9b3ffe03ec97",
   "metadata": {},
   "outputs": [],
   "source": [
    "#19. Delete a tuple\n",
    "\n",
    "\n",
    "tuple_1 = (1,2,3,4,5)\n",
    "del[tuple_1]\n"
   ]
  },
  {
   "cell_type": "code",
   "execution_count": 45,
   "id": "93d42b0d-1d8d-4e5d-b74a-08cd7a4d3d78",
   "metadata": {},
   "outputs": [
    {
     "data": {
      "text/plain": [
       "(1, 2, 3)"
      ]
     },
     "execution_count": 45,
     "metadata": {},
     "output_type": "execute_result"
    }
   ],
   "source": [
    "#20. Slice a tuple.\n",
    "\n",
    "tuple_1 = (1,2,3,4,5)\n",
    "tuple_1[0:3]"
   ]
  },
  {
   "cell_type": "code",
   "execution_count": 3,
   "id": "6ae966e6-75d7-4b48-9079-8f0f07790843",
   "metadata": {},
   "outputs": [
    {
     "name": "stdout",
     "output_type": "stream",
     "text": [
      "maximum value in a tuple is  5\n"
     ]
    }
   ],
   "source": [
    "#21. Find the maximum value in a tuple.\n",
    "\n",
    "tuple_1 = (1,2,3,4,5)\n",
    "print('maximum value in a tuple is ',max(tuple_1))\n"
   ]
  },
  {
   "cell_type": "code",
   "execution_count": 4,
   "id": "a5bfcb58-83b4-42c8-8cc4-5aa549fed360",
   "metadata": {},
   "outputs": [
    {
     "name": "stdout",
     "output_type": "stream",
     "text": [
      "Minimum value in a tuple is  1\n"
     ]
    }
   ],
   "source": [
    "#22. Find the minimum value in a tuple.\n",
    "\n",
    "tuple_1 = (1,2,3,4,5)\n",
    "print('Minimum value in a tuple is ',min(tuple_1))"
   ]
  },
  {
   "cell_type": "code",
   "execution_count": 1,
   "id": "cffcecb9-b819-4b5d-b30e-0cc9ae6128ea",
   "metadata": {},
   "outputs": [
    {
     "name": "stdout",
     "output_type": "stream",
     "text": [
      "After converting a string to a tuple of characters :  ('hi', 'am', 'rishi')\n"
     ]
    }
   ],
   "source": [
    "#23. Convert a string to a tuple of characters.\n",
    "\n",
    "s1 = 'hi am rishi'\n",
    "list_1= s1.split()\n",
    "list_2 = []\n",
    "for x in list_1:\n",
    "    list_2.append(x)\n",
    "    \n",
    "print('After converting a string to a tuple of characters : ',tuple(list_2))"
   ]
  },
  {
   "cell_type": "code",
   "execution_count": 13,
   "id": "39383290-8a5a-45ab-96c8-242f1fd56b91",
   "metadata": {},
   "outputs": [
    {
     "name": "stdout",
     "output_type": "stream",
     "text": [
      "After converting a tuple of characters to a string :  hi am rishi \n"
     ]
    }
   ],
   "source": [
    "#24. Convert a tuple of characters to a string.\n",
    "\n",
    "tuple_1 = ('hi', 'am', 'rishi')\n",
    "string_1 = ''\n",
    "for x in tuple_1:\n",
    "    string_1 = string_1 + x + ' '\n",
    "\n",
    "print('After converting a tuple of characters to a string : ', string_1)"
   ]
  },
  {
   "cell_type": "code",
   "execution_count": 14,
   "id": "98de4b74-aba4-4aaf-9d69-4da1f55d5024",
   "metadata": {},
   "outputs": [
    {
     "name": "stdout",
     "output_type": "stream",
     "text": [
      "('hi', 2, (1, 2), [1, 2], {1, 2}, {1: 2, 3: 4})\n"
     ]
    }
   ],
   "source": [
    "#25. Create a tuple from multiple data types.\n",
    "\n",
    "tuple_1 = ('hi',2,(1,2),[1,2],{1,2},{1:2,3:4})\n",
    "print(tuple_1)\n"
   ]
  },
  {
   "cell_type": "code",
   "execution_count": 20,
   "id": "f4472780-1a01-44f5-9bf9-7e935efe5e40",
   "metadata": {},
   "outputs": [
    {
     "name": "stdin",
     "output_type": "stream",
     "text": [
      "Enter the values for first tuple :  1,2,3\n",
      "Enter the values for second tuple :  3,5,6\n"
     ]
    },
    {
     "name": "stdout",
     "output_type": "stream",
     "text": [
      "tuple_1 = ('1', ',', '2', ',', '3')\n",
      "tuple_2 =  ('3', ',', '5', ',', '6')\n",
      "No, two tuples are not identical \n"
     ]
    }
   ],
   "source": [
    "#26. Check if two tuples are identical.\n",
    "\n",
    "tuple_1 = tuple(input('Enter the values for first tuple : '))\n",
    "tuple_2 = tuple(input('Enter the values for second tuple : '))\n",
    "if tuple_1 == tuple_2:\n",
    "    print('tuple_1 =',tuple_1)\n",
    "    print('tuple_2 = ',tuple_2)\n",
    "    print('Yes, two tuples are identical ')\n",
    "else:\n",
    "    print('tuple_1 =',tuple_1)\n",
    "    print('tuple_2 = ',tuple_2)\n",
    "    print('No, two tuples are not identical ')\n"
   ]
  },
  {
   "cell_type": "code",
   "execution_count": 31,
   "id": "79bc23c5-b003-42b3-9de4-eb8cf253573b",
   "metadata": {},
   "outputs": [
    {
     "name": "stdout",
     "output_type": "stream",
     "text": [
      "After sorting :  (1, 2, 3, 4, 5, 6)\n"
     ]
    }
   ],
   "source": [
    "#27. Sort the elements of a tuple.\n",
    "\n",
    "tuple_1 = (1,5,4,6,2,3)\n",
    "list_1 = list(tuple_1)\n",
    "list_1.sort()\n",
    "print('After sorting : ',tuple(list_1))\n"
   ]
  },
  {
   "cell_type": "code",
   "execution_count": 32,
   "id": "bb048d7d-ea9e-4f63-a789-b7aabb3c63a2",
   "metadata": {},
   "outputs": [
    {
     "data": {
      "text/plain": [
       "('1', '5', '4', '6', '2', '3')"
      ]
     },
     "execution_count": 32,
     "metadata": {},
     "output_type": "execute_result"
    }
   ],
   "source": [
    "#28. Convert a tuple of integers to a tuple of strings\n",
    "\n",
    "tuple_1 = (1,5,4,6,2,3)\n",
    "list_1 = []\n",
    "for x in tuple_1:\n",
    "    list_1.append(str(x))\n",
    "\n",
    "tuple(list_1)\n",
    "    "
   ]
  },
  {
   "cell_type": "code",
   "execution_count": 33,
   "id": "0f0520a5-2ec0-464f-b7cd-523ce0a9d9d6",
   "metadata": {},
   "outputs": [
    {
     "data": {
      "text/plain": [
       "(1, 5, 4, 6, 2, 3)"
      ]
     },
     "execution_count": 33,
     "metadata": {},
     "output_type": "execute_result"
    }
   ],
   "source": [
    "#29. Convert a tuple of strings to a tuple of integers\n",
    "\n",
    "tuple_1 = ('1', '5', '4', '6', '2', '3')\n",
    "list_1 = []\n",
    "for x in tuple_1:\n",
    "    list_1.append(int(x))\n",
    "\n",
    "tuple(list_1)"
   ]
  },
  {
   "cell_type": "code",
   "execution_count": 34,
   "id": "e4ca45b7-e710-4f27-a870-084581961c3d",
   "metadata": {},
   "outputs": [
    {
     "name": "stdout",
     "output_type": "stream",
     "text": [
      "(1, 2, 3, 4, 5, 6)\n"
     ]
    }
   ],
   "source": [
    "#30. Merge two tuples\n",
    "\n",
    "tuple_1 = (1,2,3)\n",
    "tuple_2 = (4,5,6)\n",
    "print(tuple_1 + tuple_2)"
   ]
  },
  {
   "cell_type": "code",
   "execution_count": 42,
   "id": "000c45df-0dc7-4a20-a56a-f8b5e5586dea",
   "metadata": {},
   "outputs": [
    {
     "data": {
      "text/plain": [
       "(1, 2, 3, 4, 5, 6, 7)"
      ]
     },
     "execution_count": 42,
     "metadata": {},
     "output_type": "execute_result"
    }
   ],
   "source": [
    "#31. Flatten a nested tuple.\n",
    "\n",
    "tuple_1 = ((1,2,3),(4,5),(6,7))\n",
    "list_1 = []\n",
    "for x in tuple_1:\n",
    "    for y in x:\n",
    "        list_1.append(y)\n",
    "    \n",
    "tuple(list_1)"
   ]
  },
  {
   "cell_type": "code",
   "execution_count": 2,
   "id": "b76a67c8-78be-44a9-bef7-a0eaa78e1786",
   "metadata": {},
   "outputs": [
    {
     "data": {
      "text/plain": [
       "(2, 3, 5, 7, 11)"
      ]
     },
     "execution_count": 2,
     "metadata": {},
     "output_type": "execute_result"
    }
   ],
   "source": [
    "#32. Create a tuple of the first 5 prime numbers\n",
    "\n",
    "list_1= []\n",
    "counter = 0\n",
    "for x in range(2,50):\n",
    "    for y in range(2,50):\n",
    "        if x % y == 0 :\n",
    "            break\n",
    "    if x == y and counter < 5:\n",
    "        list_1.append(x)\n",
    "        counter += 1\n",
    "        \n",
    "tuple(list_1)"
   ]
  },
  {
   "cell_type": "code",
   "execution_count": 3,
   "id": "67cf54f3-2313-42b7-a410-9e6a3dd32293",
   "metadata": {},
   "outputs": [
    {
     "name": "stdin",
     "output_type": "stream",
     "text": [
      "Enter the elements :  1 2 3 2 1\n"
     ]
    },
    {
     "name": "stdout",
     "output_type": "stream",
     "text": [
      "yes, tuple is palindrome\n"
     ]
    }
   ],
   "source": [
    "#33. Check if a tuple is a palindrome.\n",
    "\n",
    "tuple_1 = tuple(input('Enter the elements : ').split())\n",
    "if tuple_1[::-1] == tuple_1:\n",
    "    print('yes, tuple is palindrome')\n",
    "else:\n",
    "    print('No, tuple is not palindrome')"
   ]
  },
  {
   "cell_type": "code",
   "execution_count": 4,
   "id": "c15cc96e-1653-46fb-b4bd-39cfdbfc69d1",
   "metadata": {},
   "outputs": [
    {
     "name": "stdout",
     "output_type": "stream",
     "text": [
      "(1, 4, 9, 16, 25)\n"
     ]
    }
   ],
   "source": [
    "#34. Create a tuple of squares of numbers from 1 to 5.\n",
    "\n",
    "list_1 = []\n",
    "for x in range(1,6):\n",
    "    list_1.append(x**2)\n",
    "print(tuple(list_1))"
   ]
  },
  {
   "cell_type": "code",
   "execution_count": 7,
   "id": "f09b289f-80d5-42c2-b3fb-cd376726e0d6",
   "metadata": {},
   "outputs": [
    {
     "name": "stdout",
     "output_type": "stream",
     "text": [
      "Even numbers in tuple are :  (2, 4, 6)\n"
     ]
    }
   ],
   "source": [
    "#35. Filter out all even numbers from a tuple.\n",
    "\n",
    "tuple_1 = (1,2,3,4,5,6)\n",
    "list_even= []\n",
    "for x in tuple_1:\n",
    "    if x%2 == 0:\n",
    "        list_even.append(x)\n",
    "\n",
    "print('Even numbers in tuple are : ',tuple(list_even))"
   ]
  },
  {
   "cell_type": "code",
   "execution_count": 8,
   "id": "9c3c53e1-3ec3-4d6d-9111-a686d1ed849e",
   "metadata": {},
   "outputs": [
    {
     "name": "stdout",
     "output_type": "stream",
     "text": [
      "After multiplying all elements in a tuple by 2 :  (2, 4, 6, 8, 10, 12)\n"
     ]
    }
   ],
   "source": [
    "#36. Multiply all elements in a tuple by 2\n",
    "\n",
    "tuple_1 = (1,2,3,4,5,6)\n",
    "list_2 = []\n",
    "for x in tuple_1:\n",
    "    list_2.append(x*2)\n",
    "    \n",
    "    \n",
    "print('After multiplying all elements in a tuple by 2 : ', tuple(list_2))"
   ]
  },
  {
   "cell_type": "code",
   "execution_count": 15,
   "id": "81712a4d-c9ae-4e64-8a79-7e51ecfb1c44",
   "metadata": {},
   "outputs": [
    {
     "data": {
      "text/plain": [
       "(1, 2, 10, 4, 9, 8, 3, 5, 6, 7)"
      ]
     },
     "execution_count": 15,
     "metadata": {},
     "output_type": "execute_result"
    }
   ],
   "source": [
    "#37. Create a tuple of random numbers.\n",
    "\n",
    "import random\n",
    "tuple_1 = (1,2,3,4,5,6,7,8,9,10)\n",
    "list_1 = list(tuple_1)\n",
    "random.shuffle(list_1)\n",
    "tuple(list_1)\n"
   ]
  },
  {
   "cell_type": "code",
   "execution_count": 23,
   "id": "69ccdcea-b05d-42ee-8a49-9ae6038da50e",
   "metadata": {},
   "outputs": [
    {
     "name": "stdout",
     "output_type": "stream",
     "text": [
      "The tuple is not sorted\n"
     ]
    }
   ],
   "source": [
    "#38. Check if a tuple is sorted.\n",
    "\n",
    "tuple_1 = (3,4,5,6,1,2)\n",
    "counter = 0\n",
    "for x in tuple_1 :\n",
    "    if counter < x :\n",
    "        counter = x\n",
    "    else :\n",
    "        print('The tuple is not sorted')\n",
    "        break\n",
    "if counter == tuple_1[-1]:\n",
    "    print('The tuple is sorted')"
   ]
  },
  {
   "cell_type": "code",
   "execution_count": 25,
   "id": "cf015e45-7fa3-4f33-a712-67482aaf95ae",
   "metadata": {},
   "outputs": [
    {
     "name": "stdin",
     "output_type": "stream",
     "text": [
      "Enter the value of n to rotate the tuple :  2\n"
     ]
    },
    {
     "name": "stdout",
     "output_type": "stream",
     "text": [
      "After rotating a tuple to the left :  (3, 4, 5, 6, 7, 8, 9, 10, 1, 2)\n"
     ]
    }
   ],
   "source": [
    "#39. Rotate a tuple to the left by `n` positions.\n",
    "\n",
    "tuple_1 = (1,2,3,4,5,6,7,8,9,10)\n",
    "n = int(input('Enter the value of n to rotate the tuple : '))\n",
    "tuple_2 = tuple_1[n::] + tuple_1[0:n]\n",
    "print('After rotating a tuple to the left : ', tuple_2)"
   ]
  },
  {
   "cell_type": "code",
   "execution_count": 27,
   "id": "7ca5b7ef-628d-441c-bce1-16c930dd9875",
   "metadata": {},
   "outputs": [
    {
     "name": "stdin",
     "output_type": "stream",
     "text": [
      "Enter the value of n to rotate the tuple :  2\n"
     ]
    },
    {
     "name": "stdout",
     "output_type": "stream",
     "text": [
      "After rotating a tuple to the right :  (10, 9, 1, 2, 3, 4, 5, 6, 7, 8)\n"
     ]
    }
   ],
   "source": [
    "#40. Rotate a tuple to the right by `n` positions.\n",
    "\n",
    "\n",
    "tuple_1 = (1,2,3,4,5,6,7,8,9,10)\n",
    "n = int(input('Enter the value of n to rotate the tuple : '))\n",
    "tuple_2 = tuple_1[-1:-(n+1):-1] + tuple_1[0:-n]\n",
    "print('After rotating a tuple to the right : ', tuple_2)\n"
   ]
  },
  {
   "cell_type": "code",
   "execution_count": 29,
   "id": "065a978b-4e8e-491d-bff7-c917fffb29f7",
   "metadata": {},
   "outputs": [
    {
     "name": "stdout",
     "output_type": "stream",
     "text": [
      "(0, 1, 1, 2, 3)\n"
     ]
    }
   ],
   "source": [
    "#41. Create a tuple of the first 5 Fibonacci numbers.\n",
    "\n",
    "\n",
    "list_1  = []\n",
    "start =  0 \n",
    "for x in range(0,5):\n",
    "    if x <= 1 :\n",
    "        list_1.append(x)\n",
    "    else:\n",
    "        y  = (list_1[-1]) + (list_1[-2])\n",
    "        list_1.append(y)\n",
    "\n",
    "print(tuple(list_1))\n",
    "        "
   ]
  },
  {
   "cell_type": "code",
   "execution_count": 30,
   "id": "b87a46bd-9d8b-4049-b2a1-34f2d431de1c",
   "metadata": {},
   "outputs": [
    {
     "name": "stdin",
     "output_type": "stream",
     "text": [
      "Enter the elements with space between two elements :  hi am rishi\n"
     ]
    },
    {
     "name": "stdout",
     "output_type": "stream",
     "text": [
      "('hi', 'am', 'rishi')\n"
     ]
    }
   ],
   "source": [
    "#42. Create a tuple from user input.\n",
    "\n",
    "tuple_1 = tuple(input('Enter the elements with space between two elements : ').split())\n",
    "print(tuple_1)"
   ]
  },
  {
   "cell_type": "code",
   "execution_count": 3,
   "id": "6d913af8-806a-4f3e-8fa1-df80ca421d6b",
   "metadata": {},
   "outputs": [
    {
     "name": "stdout",
     "output_type": "stream",
     "text": [
      "After swapping :  (1, 2, 6, 4, 5, 3)\n"
     ]
    }
   ],
   "source": [
    "#43. Swap two elements in a tuple.\n",
    "\n",
    "tuple_1 = (1,2,3,4,5,6)\n",
    "list_1 = list(tuple_1)\n",
    "(list_1[2],list_1[5]) = (list_1[5],list_1[2])\n",
    "print('After swapping : ', tuple(list_1))"
   ]
  },
  {
   "cell_type": "code",
   "execution_count": 4,
   "id": "d8921b9e-975b-47b6-bee6-4b1990407dd8",
   "metadata": {},
   "outputs": [
    {
     "data": {
      "text/plain": [
       "(6, 5, 4, 3, 2, 1)"
      ]
     },
     "execution_count": 4,
     "metadata": {},
     "output_type": "execute_result"
    }
   ],
   "source": [
    "#44. Reverse the elements of a tuple\n",
    "\n",
    "tuple_1 = (1,2,3,4,5,6)\n",
    "tuple_1[::-1]"
   ]
  },
  {
   "cell_type": "code",
   "execution_count": 6,
   "id": "1be8128d-3ad9-4449-b927-926a46090b56",
   "metadata": {},
   "outputs": [
    {
     "name": "stdin",
     "output_type": "stream",
     "text": [
      "Enter the value of n:  2\n"
     ]
    },
    {
     "name": "stdout",
     "output_type": "stream",
     "text": [
      "tuple of the first `n` powers of 2 is  (2, 4)\n"
     ]
    }
   ],
   "source": [
    "#45. Create a tuple of the first `n` powers of 2\n",
    "\n",
    "n = int(input('Enter the value of n: '))\n",
    "list_1 = []\n",
    "for x in range(1,n+1):\n",
    "    list_1.append(2**x)\n",
    "    \n",
    "print('tuple of the first `n` powers of 2 is ',tuple(list_1))"
   ]
  },
  {
   "cell_type": "code",
   "execution_count": 10,
   "id": "ce21c517-b7b5-4281-8d3a-d5cd859a5dd2",
   "metadata": {},
   "outputs": [
    {
     "name": "stdout",
     "output_type": "stream",
     "text": [
      " longest string in a tuple of strings is :  rishi\n"
     ]
    }
   ],
   "source": [
    "#46. Find the longest string in a tuple of strings\n",
    "\n",
    "\n",
    "tuple_1 = ('hi', 'am', 'rishi','hello')\n",
    "counter = 0\n",
    "word = ''\n",
    "for x in tuple_1:\n",
    "    if counter < len(x):\n",
    "        counter = len(x)\n",
    "        word = x\n",
    "\n",
    "print(' longest string in a tuple of strings is : ',word)"
   ]
  },
  {
   "cell_type": "code",
   "execution_count": 12,
   "id": "dacf33b5-1179-4735-a49b-a467b4d78164",
   "metadata": {},
   "outputs": [
    {
     "name": "stdout",
     "output_type": "stream",
     "text": [
      " Shortest string in a list of strings is :  am\n"
     ]
    }
   ],
   "source": [
    "#47. Find the shortest string in a tuple of strings.\n",
    "\n",
    "\n",
    "\n",
    "tuple_1 = ('hello', 'am', 'Hrishikesh')\n",
    "list_1 = list(tuple_1)\n",
    "list_2 = []\n",
    "\n",
    "for x in tuple_1:\n",
    "    list_2.append(len(x))\n",
    "    \n",
    "print(' Shortest string in a list of strings is : ',list_1[list_2.index(min(list_2))])\n",
    "    "
   ]
  },
  {
   "cell_type": "code",
   "execution_count": 13,
   "id": "86274f11-2a66-4733-bfcb-ed61e176ff55",
   "metadata": {},
   "outputs": [
    {
     "name": "stdin",
     "output_type": "stream",
     "text": [
      "Enter the value of n :  4\n"
     ]
    },
    {
     "name": "stdout",
     "output_type": "stream",
     "text": [
      "(1, 3, 6, 10)\n"
     ]
    }
   ],
   "source": [
    "#48. Create a tuple of the first `n` triangular numbers.\n",
    "\n",
    "\n",
    "list_1 = []\n",
    "n = int(input('Enter the value of n : '))\n",
    "s1 = 0\n",
    "s2 = 0\n",
    "for x in range(1,n+1):\n",
    "    s1 = s2+x\n",
    "    list_1.append(s1)\n",
    "    s2 = s1\n",
    "\n",
    "    \n",
    "print(tuple(list_1))\n",
    "    "
   ]
  },
  {
   "cell_type": "code",
   "execution_count": 15,
   "id": "4dd85782-305c-42fe-9427-fb9f8dbf0b5f",
   "metadata": {},
   "outputs": [
    {
     "name": "stdout",
     "output_type": "stream",
     "text": [
      "Yes,tuple contains another tuple as a subsequence\n"
     ]
    }
   ],
   "source": [
    "#49. Check if a tuple contains another tuple as a subsequence.\n",
    "\n",
    "\n",
    "tuple_1 = (1,2,3,4,5,6)\n",
    "tuple_2 = (4,5,6)\n",
    "list_1 = list(tuple_1)\n",
    "list_2 = list(tuple_2)\n",
    "list_3 = []\n",
    "n = len(list_2)\n",
    "counter = 0\n",
    "for x in list_1:\n",
    "    list_3.append(list_1[counter:(counter + n)])\n",
    "    counter = counter +1\n",
    "if list_2 in list_3:\n",
    "    print('Yes,tuple contains another tuple as a subsequence')\n",
    "else:\n",
    "    print('No,tuple dont contains another tuple as a subsequence')"
   ]
  },
  {
   "cell_type": "code",
   "execution_count": 17,
   "id": "26f2b984-0779-466e-b9c3-11b4e29e2687",
   "metadata": {},
   "outputs": [
    {
     "name": "stdin",
     "output_type": "stream",
     "text": [
      "value of n :  10\n"
     ]
    },
    {
     "name": "stdout",
     "output_type": "stream",
     "text": [
      "[1, 0, 1, 0, 1, 0, 1, 0, 1, 0]\n"
     ]
    }
   ],
   "source": [
    "#50. Create a tuple of alternating 1s and 0s of length `n`.\n",
    "\n",
    "n = int(input('value of n : '))\n",
    "list_1 = []\n",
    "for x in range(0,n):\n",
    "    if x==0 or x % 2 ==0:\n",
    "        list_1.append(1)\n",
    "    else:\n",
    "        list_1.append(0)\n",
    "print(list_1)\n"
   ]
  },
  {
   "cell_type": "code",
   "execution_count": null,
   "id": "6e25296c-d6e1-4ddb-b1fb-bc059059e588",
   "metadata": {},
   "outputs": [],
   "source": []
  },
  {
   "cell_type": "raw",
   "id": "a4a11a46-e758-4d9e-b987-f2cbfcc91334",
   "metadata": {},
   "source": [
    "Topic - Set Based Practice Problem "
   ]
  },
  {
   "cell_type": "code",
   "execution_count": null,
   "id": "d0444931-c90e-4494-abea-b3130e174b97",
   "metadata": {},
   "outputs": [],
   "source": []
  },
  {
   "cell_type": "code",
   "execution_count": 14,
   "id": "81b6bed9-03e8-4687-82b2-bd3329fdd5ce",
   "metadata": {},
   "outputs": [
    {
     "name": "stdout",
     "output_type": "stream",
     "text": [
      "{1, 2, 3, 4, 5}\n"
     ]
    }
   ],
   "source": [
    "#1. Create a set with integers from 1 to 5.\n",
    "\n",
    "set_1 = set()\n",
    "for x in range(1,6):\n",
    "    set_1.add(x)\n",
    "\n",
    "print(set_1)"
   ]
  },
  {
   "cell_type": "code",
   "execution_count": 16,
   "id": "388b3e60-485b-4634-a5f2-085dc6aabe9e",
   "metadata": {},
   "outputs": [
    {
     "name": "stdout",
     "output_type": "stream",
     "text": [
      "{1, 2, 3, 4, 5, 6}\n"
     ]
    }
   ],
   "source": [
    "#2. Add an element to a set.\n",
    "\n",
    "set_1 = {1, 2, 3, 4, 5}\n",
    "set_1.add(6)\n",
    "print(set_1)\n"
   ]
  },
  {
   "cell_type": "code",
   "execution_count": 18,
   "id": "30977301-02bb-4e7b-a929-7a0b51a27ccf",
   "metadata": {},
   "outputs": [
    {
     "data": {
      "text/plain": [
       "{1, 2, 4, 5}"
      ]
     },
     "execution_count": 18,
     "metadata": {},
     "output_type": "execute_result"
    }
   ],
   "source": [
    "#3. Remove an element from a set.\n",
    "\n",
    "set_1 = {1, 2, 3, 4, 5}\n",
    "set_1.remove(3)\n",
    "set_1"
   ]
  },
  {
   "cell_type": "code",
   "execution_count": 21,
   "id": "6b2acc00-7da9-4f78-aa3d-55f6757a4fd2",
   "metadata": {},
   "outputs": [
    {
     "name": "stdin",
     "output_type": "stream",
     "text": [
      "Enter the value you want to search for :  3\n"
     ]
    },
    {
     "data": {
      "text/plain": [
       "True"
      ]
     },
     "execution_count": 21,
     "metadata": {},
     "output_type": "execute_result"
    }
   ],
   "source": [
    "#4. Check if an element exists in a set.\n",
    "\n",
    "set_1 = {1, 2, 3, 4, 5}\n",
    "int_1 = int(input('Enter the value you want to search for : '))\n",
    "int_1 in set_1"
   ]
  },
  {
   "cell_type": "code",
   "execution_count": 24,
   "id": "8a66c0ae-9a15-4365-a1af-ccb05999211b",
   "metadata": {},
   "outputs": [
    {
     "name": "stdout",
     "output_type": "stream",
     "text": [
      "Number of elements are :  5\n"
     ]
    }
   ],
   "source": [
    "#5. Find the length of a set without using the `len()` function.\n",
    "\n",
    "set_1 = {1, 2, 3, 4, 5}\n",
    "counter = 0\n",
    "for x in set_1:\n",
    "    counter += 1\n",
    "print('Number of elements are : ',counter)"
   ]
  },
  {
   "cell_type": "code",
   "execution_count": 27,
   "id": "5fce1abf-92b8-470f-bd71-1c473dfa521c",
   "metadata": {},
   "outputs": [
    {
     "data": {
      "text/plain": [
       "set()"
      ]
     },
     "execution_count": 27,
     "metadata": {},
     "output_type": "execute_result"
    }
   ],
   "source": [
    "#6. Clear all elements from a set.\n",
    "\n",
    "set_1 = {1, 2, 3, 4, 5}\n",
    "set_1.clear()\n",
    "set_1"
   ]
  },
  {
   "cell_type": "code",
   "execution_count": 28,
   "id": "7e562582-0201-4bde-a7d7-91453cfd93ff",
   "metadata": {},
   "outputs": [
    {
     "name": "stdout",
     "output_type": "stream",
     "text": [
      "{2, 4, 6, 8, 10}\n"
     ]
    }
   ],
   "source": [
    "#7. Create a set of even numbers from 1 to 10\n",
    "\n",
    "set_1 = set()\n",
    "for x in range(1,11):\n",
    "    if x % 2 == 0:\n",
    "        set_1.add(x)\n",
    "\n",
    "print(set_1)"
   ]
  },
  {
   "cell_type": "code",
   "execution_count": 29,
   "id": "8746bf8a-48f0-4c50-8a6e-dc8dfaba293f",
   "metadata": {},
   "outputs": [
    {
     "name": "stdout",
     "output_type": "stream",
     "text": [
      "{1, 3, 5, 7, 9}\n"
     ]
    }
   ],
   "source": [
    "#8. Create a set of odd numbers from 1 to 10.\n",
    "\n",
    "set_1 = set()\n",
    "for x in range(1,11):\n",
    "    if x % 2 != 0:\n",
    "        set_1.add(x)\n",
    "\n",
    "print(set_1)"
   ]
  },
  {
   "cell_type": "code",
   "execution_count": 30,
   "id": "2d0e40c9-8409-4d1c-ad4b-5d2d75066887",
   "metadata": {},
   "outputs": [
    {
     "data": {
      "text/plain": [
       "{1, 2, 3, 4, 5, 6, 7, 8, 9}"
      ]
     },
     "execution_count": 30,
     "metadata": {},
     "output_type": "execute_result"
    }
   ],
   "source": [
    "#9. Find the union of two sets.\n",
    "\n",
    "set_1 = {1,2,3,4,5}\n",
    "set_2 = {4,5,6,7,8,9}\n",
    "set_1.union(set_2)\n"
   ]
  },
  {
   "cell_type": "code",
   "execution_count": 32,
   "id": "5073bb08-4a74-4b5e-bdb0-a2083c56b5ad",
   "metadata": {},
   "outputs": [
    {
     "data": {
      "text/plain": [
       "{4, 5}"
      ]
     },
     "execution_count": 32,
     "metadata": {},
     "output_type": "execute_result"
    }
   ],
   "source": [
    "#10. Find the intersection of two sets.\n",
    "\n",
    "set_1 = {1,2,3,4,5}\n",
    "set_2 = {4,5,6,7,8,9}\n",
    "set_1.intersection(set_2)"
   ]
  },
  {
   "cell_type": "code",
   "execution_count": 33,
   "id": "08373699-4ce9-4fb0-bc47-9642f53c538b",
   "metadata": {},
   "outputs": [
    {
     "data": {
      "text/plain": [
       "{1, 2, 3}"
      ]
     },
     "execution_count": 33,
     "metadata": {},
     "output_type": "execute_result"
    }
   ],
   "source": [
    "#11. Find the difference between two sets.\n",
    "\n",
    "set_1 = {1,2,3,4,5}\n",
    "set_2 = {4,5,6,7,8,9}\n",
    "set_1 - set_2"
   ]
  },
  {
   "cell_type": "code",
   "execution_count": 34,
   "id": "292b83f1-c6d5-4669-81fb-a7c24168ef70",
   "metadata": {},
   "outputs": [
    {
     "data": {
      "text/plain": [
       "True"
      ]
     },
     "execution_count": 34,
     "metadata": {},
     "output_type": "execute_result"
    }
   ],
   "source": [
    "#12. Check if a set is a subset of another set\n",
    "\n",
    "set_1 = {4,5}\n",
    "set_2 = {4,5,6,7,8}\n",
    "set_1.issubset(set_2)\n"
   ]
  },
  {
   "cell_type": "code",
   "execution_count": 38,
   "id": "228ca774-42be-48a9-827c-d118304933da",
   "metadata": {},
   "outputs": [
    {
     "data": {
      "text/plain": [
       "True"
      ]
     },
     "execution_count": 38,
     "metadata": {},
     "output_type": "execute_result"
    }
   ],
   "source": [
    "#13. Check if a set is a superset of another set\n",
    "\n",
    "set_1 = {4,5,6,7,8}\n",
    "set_2 = {4,5}\n",
    "set_1.issuperset(set_2)"
   ]
  },
  {
   "cell_type": "code",
   "execution_count": 39,
   "id": "dd52cdbd-b92b-4d6d-aecf-e617526c36cd",
   "metadata": {},
   "outputs": [
    {
     "data": {
      "text/plain": [
       "{1, 2, 3, 4}"
      ]
     },
     "execution_count": 39,
     "metadata": {},
     "output_type": "execute_result"
    }
   ],
   "source": [
    "#14. Create a set from a list\n",
    "\n",
    "list_1 = [1,2,3,4]\n",
    "set(list_1)"
   ]
  },
  {
   "cell_type": "code",
   "execution_count": 40,
   "id": "f3ebdcfd-3289-4f3b-83b7-f2800db577d0",
   "metadata": {},
   "outputs": [
    {
     "data": {
      "text/plain": [
       "[1, 2, 3, 4]"
      ]
     },
     "execution_count": 40,
     "metadata": {},
     "output_type": "execute_result"
    }
   ],
   "source": [
    "#15. Convert a set to a list\n",
    "\n",
    "set_1 = {1, 2, 3, 4}\n",
    "list(set_1)"
   ]
  },
  {
   "cell_type": "code",
   "execution_count": 55,
   "id": "6cbfe211-e3fc-4648-961a-bf406e133a36",
   "metadata": {},
   "outputs": [
    {
     "name": "stdin",
     "output_type": "stream",
     "text": [
      "Enter elements in set :  1 2 3 4\n"
     ]
    },
    {
     "name": "stdout",
     "output_type": "stream",
     "text": [
      "{'4', '2', '1', '3'}\n",
      "{'4', '1', '3'}\n"
     ]
    }
   ],
   "source": [
    "#16. Remove a random element from a set.\n",
    "\n",
    "import random\n",
    "\n",
    "set_1 = set(input('Enter elements in set : ').split())\n",
    "print(set_1)\n",
    "list_1 = list(set_1)\n",
    "r = random.randint(0,(len(set_1)+1))\n",
    "list_1.pop(r)\n",
    "print(set(list_1))\n",
    "\n"
   ]
  },
  {
   "cell_type": "code",
   "execution_count": 57,
   "id": "933911bb-c7bc-453f-8cf9-affcc1e4aaf8",
   "metadata": {},
   "outputs": [
    {
     "data": {
      "text/plain": [
       "1"
      ]
     },
     "execution_count": 57,
     "metadata": {},
     "output_type": "execute_result"
    }
   ],
   "source": [
    "#17. Pop an element from a set.\n",
    "\n",
    "set_1 = {1, 2, 3, 4}\n",
    "set_1.pop()"
   ]
  },
  {
   "cell_type": "code",
   "execution_count": 63,
   "id": "0480c414-b80c-490e-856c-8f86c9dbc34d",
   "metadata": {},
   "outputs": [
    {
     "name": "stdin",
     "output_type": "stream",
     "text": [
      "Enter the elements for set_1 seperated by space :  hi am rishi\n",
      "Enter the elements for set_2 seperated by space :  my name is hrishi\n"
     ]
    },
    {
     "name": "stdout",
     "output_type": "stream",
     "text": [
      "{'rishi', 'am', 'hi'}\n",
      "{'name', 'is', 'my', 'hrishi'}\n",
      "two sets have no elements in common\n"
     ]
    }
   ],
   "source": [
    "#18. Check if two sets have no elements in common.\n",
    "\n",
    "set_1 = set(input('Enter the elements for set_1 seperated by space : ').split())\n",
    "set_2 = set(input('Enter the elements for set_2 seperated by space : ').split())\n",
    "print(set_1)\n",
    "print(set_2)\n",
    "if set_1.intersection(set_2):\n",
    "    print('Yes, two sets have elements in common')\n",
    "else:\n",
    "\n",
    "    print('two sets have no elements in common')\n",
    "\n"
   ]
  },
  {
   "cell_type": "code",
   "execution_count": 64,
   "id": "2976935b-ae81-4d5e-bbf1-543d96471500",
   "metadata": {},
   "outputs": [
    {
     "data": {
      "text/plain": [
       "{6, 7, 8}"
      ]
     },
     "execution_count": 64,
     "metadata": {},
     "output_type": "execute_result"
    }
   ],
   "source": [
    "#19. Find the symmetric difference between two sets.\n",
    "\n",
    "# A Δ B = (A ∪ B) - (A ∩ B)\n",
    "\n",
    "\n",
    "set_1 = {4,5,6,7,8}\n",
    "set_2 = {4,5}\n",
    "(set_1.union(set_2)) - (set_1.intersection(set_2))\n"
   ]
  },
  {
   "cell_type": "code",
   "execution_count": 72,
   "id": "30d77961-2cdd-4cea-a22a-8260aa16a233",
   "metadata": {},
   "outputs": [
    {
     "data": {
      "text/plain": [
       "{4, 5, 6, 7, 8, 44}"
      ]
     },
     "execution_count": 72,
     "metadata": {},
     "output_type": "execute_result"
    }
   ],
   "source": [
    "#20. Update a set with elements from another set.\n",
    "\n",
    "set_1 = {4,5,6,7,8}\n",
    "set_2 = {11,22,44}\n",
    "list_1 = list(set_2)\n",
    "set_1.add(list_1[1])\n",
    "set_1"
   ]
  },
  {
   "cell_type": "code",
   "execution_count": 73,
   "id": "0af5e2bc-6b0d-4c84-bef5-9a0e690340e6",
   "metadata": {},
   "outputs": [
    {
     "data": {
      "text/plain": [
       "(2, 3, 5, 7, 11)"
      ]
     },
     "execution_count": 73,
     "metadata": {},
     "output_type": "execute_result"
    }
   ],
   "source": [
    "#21. Create a set of the first 5 prime numbers.\n",
    "\n",
    "\n",
    "set_1= set()\n",
    "counter = 0\n",
    "for x in range(2,50):\n",
    "    for y in range(2,50):\n",
    "        if x % y == 0 :\n",
    "            break\n",
    "    if x == y and counter < 5:\n",
    "        set_1.add(x)\n",
    "        counter += 1\n",
    "        \n",
    "tuple(set_1)"
   ]
  },
  {
   "cell_type": "code",
   "execution_count": 75,
   "id": "31372e5c-dfff-445e-8990-1c58f0745603",
   "metadata": {},
   "outputs": [
    {
     "name": "stdin",
     "output_type": "stream",
     "text": [
      "Enter the values for first set :  1 2 3\n",
      "Enter the values for second set :  1 2 3\n"
     ]
    },
    {
     "name": "stdout",
     "output_type": "stream",
     "text": [
      "set_1 = {'2', '1', '3'}\n",
      "set_2 =  {'2', '1', '3'}\n",
      "Yes, two set are identical \n"
     ]
    }
   ],
   "source": [
    "#22. Check if two sets are identical\n",
    "\n",
    "\n",
    "set_1 = set(input('Enter the values for first set : ').split())\n",
    "set_2 = set(input('Enter the values for second set : ').split())\n",
    "print('set_1 =',set_1)\n",
    "print('set_2 = ',set_2)\n",
    "if set_1 == set_2:\n",
    "    print('Yes, two set are identical ')\n",
    "else:\n",
    "    print('No, two set are not identical ')"
   ]
  },
  {
   "cell_type": "code",
   "execution_count": 77,
   "id": "85b25f58-1651-4798-b92b-0b101fdae737",
   "metadata": {},
   "outputs": [
    {
     "data": {
      "text/plain": [
       "frozenset({4, 5, 6, 7, 8})"
      ]
     },
     "execution_count": 77,
     "metadata": {},
     "output_type": "execute_result"
    }
   ],
   "source": [
    "#23. Create a frozen set.\n",
    "\n",
    "set_1 = {4,5,6,7,8}\n",
    "frozenset(set_1)\n"
   ]
  },
  {
   "cell_type": "code",
   "execution_count": 80,
   "id": "3c7834ca-ef0b-4b69-879b-3685d645a4d0",
   "metadata": {},
   "outputs": [
    {
     "name": "stdout",
     "output_type": "stream",
     "text": [
      "{4, 5}\n",
      "{4, 5, 6, 7, 8}\n",
      "False\n",
      "{1, 2, 3}\n",
      "{4, 5, 6, 7, 8}\n",
      "True\n"
     ]
    }
   ],
   "source": [
    "#24. Check if a set is disjoint with another set.\n",
    "\n",
    "set_1 = {4,5}\n",
    "set_2 = {4,5,6,7,8}\n",
    "print(set_1)\n",
    "print(set_2)\n",
    "print(set_1.isdisjoint(set_2))\n",
    "\n",
    "set_1 = {1,2,3}\n",
    "set_2 = {4,5,6,7,8}\n",
    "print(set_1)\n",
    "print(set_2)\n",
    "print(set_1.isdisjoint(set_2))\n"
   ]
  },
  {
   "cell_type": "code",
   "execution_count": 81,
   "id": "539a48d5-e209-4639-b33f-42e23b32db1e",
   "metadata": {},
   "outputs": [
    {
     "name": "stdout",
     "output_type": "stream",
     "text": [
      "{1, 4, 9, 16, 25}\n"
     ]
    }
   ],
   "source": [
    "#25. Create a set of squares of numbers from 1 to 5.\n",
    "\n",
    "\n",
    "set_1 = set()\n",
    "for x in range(1,6):\n",
    "    set_1.add(x**2)\n",
    "print(set_1)"
   ]
  },
  {
   "cell_type": "code",
   "execution_count": 83,
   "id": "09076aa7-b276-41fa-b0c8-59136e0a71fc",
   "metadata": {},
   "outputs": [
    {
     "name": "stdout",
     "output_type": "stream",
     "text": [
      "{8, 2, 4, 6}\n"
     ]
    }
   ],
   "source": [
    "#26. Filter out all even numbers from a set.\n",
    "\n",
    "set_1 = {1,2,3,4,5,6,7,8,9}\n",
    "set_2 =  set()\n",
    "for x in set_1:\n",
    "    if x %2==0:\n",
    "        set_2.add(x)\n",
    "\n",
    "print(set_2)\n",
    "        "
   ]
  },
  {
   "cell_type": "code",
   "execution_count": 86,
   "id": "ab1e6bbe-17b2-4583-b8b8-b4822d0f818d",
   "metadata": {},
   "outputs": [
    {
     "name": "stdout",
     "output_type": "stream",
     "text": [
      "After multiplying all elements in a set by 2 :  {2, 4, 6, 8, 10, 12}\n"
     ]
    }
   ],
   "source": [
    "#27. Multiply all elements in a set by 2\n",
    "\n",
    "\n",
    "set_1 = {1,2,3,4,5,6}\n",
    "set_2 = set()\n",
    "for x in set_1:\n",
    "    set_2.add(x*2)\n",
    "    \n",
    "    \n",
    "print('After multiplying all elements in a set by 2 : ', set_2)"
   ]
  },
  {
   "cell_type": "code",
   "execution_count": 89,
   "id": "24b7a2cd-9f9f-4273-99d3-3dd1739e3b65",
   "metadata": {},
   "outputs": [
    {
     "name": "stdout",
     "output_type": "stream",
     "text": [
      "{99, 10, 15, 47, 17}\n"
     ]
    }
   ],
   "source": [
    "#28. Create a set of random numbers\n",
    "\n",
    "import random\n",
    "set_1 = set()\n",
    "for x in range(0,5):\n",
    "    r = random.randint(0,100)\n",
    "    set_1.add(r)\n",
    "\n",
    "print(set_1)\n",
    "\n",
    "    "
   ]
  },
  {
   "cell_type": "code",
   "execution_count": 94,
   "id": "deead8c7-87b4-4035-99dc-f2855d2b4c31",
   "metadata": {},
   "outputs": [
    {
     "name": "stdin",
     "output_type": "stream",
     "text": [
      "Enter elements :  1 2  3\n"
     ]
    },
    {
     "name": "stdout",
     "output_type": "stream",
     "text": [
      "{'2', '1', '3'}\n",
      "No, set is not  empty.\n"
     ]
    }
   ],
   "source": [
    "#29. Check if a set is empty.\n",
    "\n",
    "\n",
    "set_1 = set(input('Enter elements : ').split())\n",
    "print(set_1)\n",
    "if len(set_1) == 0:\n",
    "    print('yes, set is empty.')\n",
    "else:\n",
    "    print('No, set is not  empty.')\n",
    "    \n",
    "#if you dont enter anything in input it will return empty set\n",
    "#if you enter anything will consier it as emement and will return non-empty set.\n"
   ]
  },
  {
   "cell_type": "code",
   "execution_count": 112,
   "id": "423a56e3-70f3-4763-9f40-e8d15237ed54",
   "metadata": {},
   "outputs": [
    {
     "name": "stdout",
     "output_type": "stream",
     "text": [
      "{frozenset({3, 4}), frozenset({1, 2})}\n"
     ]
    }
   ],
   "source": [
    "#30. Create a nested set (hint: use frozenset)\n",
    "\n",
    "\n",
    "set_1 = {frozenset({1, 2}), frozenset({3, 4})}\n",
    "print(set_1)\n"
   ]
  },
  {
   "cell_type": "code",
   "execution_count": 19,
   "id": "bebbf604-465f-4067-9d48-3b65ae3abe08",
   "metadata": {},
   "outputs": [
    {
     "name": "stdout",
     "output_type": "stream",
     "text": [
      "set()\n"
     ]
    }
   ],
   "source": [
    "#31. Remove an element from a set using the discard method.\n",
    "\n",
    "set_1 = {1,2,3,4,5,6}\n",
    "for x in set_1.copy():\n",
    "    set_1.discard(x)\n",
    "print(set_1)\n"
   ]
  },
  {
   "cell_type": "code",
   "execution_count": 22,
   "id": "8225a135-c904-4ced-b5a6-b525dafaca4f",
   "metadata": {},
   "outputs": [
    {
     "name": "stdout",
     "output_type": "stream",
     "text": [
      "Elements in set_1 is equal to set_2 :  False\n"
     ]
    }
   ],
   "source": [
    "#32. Compare two sets.\n",
    "\n",
    "set_1 = {1,2,3}\n",
    "set_2 = {4,5,6}\n",
    "\n",
    "print('Elements in set_1 is equal to set_2 : ',set_1 == set_2)\n",
    "\n"
   ]
  },
  {
   "cell_type": "code",
   "execution_count": 24,
   "id": "731732f1-4812-49d2-82c4-9b87f7e079d3",
   "metadata": {},
   "outputs": [
    {
     "name": "stdin",
     "output_type": "stream",
     "text": [
      "Enter the values for set :  hi am rishi\n"
     ]
    },
    {
     "name": "stdout",
     "output_type": "stream",
     "text": [
      "{'hi', 'rishi', 'am'}\n"
     ]
    }
   ],
   "source": [
    "#33. Create a set from a string.\n",
    "\n",
    "\n",
    "set_1 = (input('Enter the values for set : '))\n",
    "set_1 = set(set_1.split())\n",
    "print(set_1)\n"
   ]
  },
  {
   "cell_type": "code",
   "execution_count": 31,
   "id": "3594854f-820b-47a3-bc0c-b13ab10116c6",
   "metadata": {},
   "outputs": [
    {
     "name": "stdout",
     "output_type": "stream",
     "text": [
      "{1, 2, 3}\n"
     ]
    }
   ],
   "source": [
    "#34. Convert a set of strings to a set of integers.\n",
    "\n",
    "set_1 = {'1','2','3'}\n",
    "set_2 = set()\n",
    "for x in set_1:\n",
    "    set_2.add(int(x))\n",
    "print(set_2)\n"
   ]
  },
  {
   "cell_type": "code",
   "execution_count": 32,
   "id": "c72c023c-4629-4370-ae54-94ef7717cc9a",
   "metadata": {},
   "outputs": [
    {
     "name": "stdout",
     "output_type": "stream",
     "text": [
      "{'3', '2', '1'}\n"
     ]
    }
   ],
   "source": [
    "#35. Convert a set of integers to a set of strings.\n",
    "\n",
    "set_1 = {1, 2, 3}\n",
    "set_2 = set()\n",
    "for x in set_1:\n",
    "    set_2.add(str(x))\n",
    "print(set_2)\n"
   ]
  },
  {
   "cell_type": "code",
   "execution_count": 33,
   "id": "ba500371-f428-45b1-9ea1-21759e89ce85",
   "metadata": {},
   "outputs": [
    {
     "data": {
      "text/plain": [
       "{1, 2, 3, 4, 5}"
      ]
     },
     "execution_count": 33,
     "metadata": {},
     "output_type": "execute_result"
    }
   ],
   "source": [
    "#36. Create a set from a tuple.\n",
    "\n",
    "tuple_1 = (1,2,3,4,5)\n",
    "set(tuple_1)\n"
   ]
  },
  {
   "cell_type": "code",
   "execution_count": 34,
   "id": "c77c46ae-5186-423d-b045-fc9391715dee",
   "metadata": {},
   "outputs": [
    {
     "data": {
      "text/plain": [
       "(1, 2, 3, 4, 5)"
      ]
     },
     "execution_count": 34,
     "metadata": {},
     "output_type": "execute_result"
    }
   ],
   "source": [
    "#37. Convert a set to a tuple.\n",
    "\n",
    "set_1 = {1, 2, 3, 4, 5}\n",
    "tuple(set_1)"
   ]
  },
  {
   "cell_type": "code",
   "execution_count": 35,
   "id": "595b0266-9516-4e92-a07d-51166f222f33",
   "metadata": {},
   "outputs": [
    {
     "data": {
      "text/plain": [
       "5"
      ]
     },
     "execution_count": 35,
     "metadata": {},
     "output_type": "execute_result"
    }
   ],
   "source": [
    "#38. Find the maximum value in a set.\n",
    "\n",
    "\n",
    "set_1 = {1, 2, 3, 4, 5}\n",
    "max(set_1)"
   ]
  },
  {
   "cell_type": "code",
   "execution_count": 37,
   "id": "39e3fed4-f042-40d0-a878-6814e77ca744",
   "metadata": {},
   "outputs": [
    {
     "data": {
      "text/plain": [
       "1"
      ]
     },
     "execution_count": 37,
     "metadata": {},
     "output_type": "execute_result"
    }
   ],
   "source": [
    "#39. Find the minimum value in a set.\n",
    "\n",
    "\n",
    "set_1 = {1, 2, 3, 4, 5}\n",
    "min(set_1)\n"
   ]
  },
  {
   "cell_type": "code",
   "execution_count": 39,
   "id": "08508220-03c1-4b09-9c0c-6c2993a1a803",
   "metadata": {},
   "outputs": [
    {
     "name": "stdin",
     "output_type": "stream",
     "text": [
      "Enter the values for set :  1 2 3 4 5\n"
     ]
    },
    {
     "name": "stdout",
     "output_type": "stream",
     "text": [
      "['1', '2', '3', '4', '5']\n"
     ]
    }
   ],
   "source": [
    "#40. Create a set from user input.\n",
    "\n",
    "set_1 = (input('Enter the values for set : ').split())\n",
    "print(set_1)"
   ]
  },
  {
   "cell_type": "code",
   "execution_count": 43,
   "id": "96161183-32df-485c-9780-78da0c704cb2",
   "metadata": {},
   "outputs": [
    {
     "name": "stdin",
     "output_type": "stream",
     "text": [
      "Enter the values for set_1 :  hi am rishi\n",
      "Enter the values for set_2 :  hello\n"
     ]
    },
    {
     "name": "stdout",
     "output_type": "stream",
     "text": [
      "intersection of two sets is empty.\n"
     ]
    }
   ],
   "source": [
    "#41. Check if the intersection of two sets is empty.\n",
    "\n",
    "set_1 = set(input('Enter the values for set_1 : ').split())\n",
    "set_2 = set(input('Enter the values for set_2 : ').split())\n",
    "\n",
    "if set_1.intersection(set_2) == set():\n",
    "    print('intersection of two sets is empty.')\n",
    "else:\n",
    "    print('intersection of two sets is not empty.')\n",
    "\n"
   ]
  },
  {
   "cell_type": "code",
   "execution_count": 74,
   "id": "dd05ede3-a058-4112-8153-5811d897974b",
   "metadata": {},
   "outputs": [
    {
     "name": "stdout",
     "output_type": "stream",
     "text": [
      "{1, 2, 3, 5, 8}\n"
     ]
    }
   ],
   "source": [
    "#42. Create a set of the first 5 Fibonacci numbers\n",
    "\n",
    "list_1  = []\n",
    "start =  0 \n",
    "for x in range(0,7):\n",
    "    if x <= 1 :\n",
    "        list_1.append(x)\n",
    "    else:\n",
    "        y  = (list_1[-1]) + (list_1[-2])\n",
    "        list_1.append(y)\n",
    "\n",
    "print(set(list_1[1:]))\n",
    "        "
   ]
  },
  {
   "cell_type": "code",
   "execution_count": 78,
   "id": "3f337f52-90eb-49d4-b3e7-011240f81345",
   "metadata": {},
   "outputs": [
    {
     "data": {
      "text/plain": [
       "[1, 2, 3, 4, 5]"
      ]
     },
     "execution_count": 78,
     "metadata": {},
     "output_type": "execute_result"
    }
   ],
   "source": [
    "#43. Remove duplicates from a list using sets.\n",
    "\n",
    "list_1  = [1,2,3,3,3,3,3,4,4,4,5,5,5]\n",
    "list_1 = list(set(list_1))\n",
    "list_1"
   ]
  },
  {
   "cell_type": "code",
   "execution_count": 80,
   "id": "a98f200d-2175-4c39-9728-1e42460d2ae8",
   "metadata": {},
   "outputs": [
    {
     "name": "stdin",
     "output_type": "stream",
     "text": [
      "Enter the values for set_1 :  1 3 3\n",
      "Enter the values for set_2 :  1 3 3\n"
     ]
    },
    {
     "name": "stdout",
     "output_type": "stream",
     "text": [
      "yes,both sets contain same elements\n"
     ]
    }
   ],
   "source": [
    "#44. Check if two sets have the same elements, regardless of their count.\n",
    "\n",
    "\n",
    "set_1 = set(input('Enter the values for set_1 : ').split())\n",
    "set_2 = set(input('Enter the values for set_2 : ').split())\n",
    "\n",
    "if set_1 == set_2:\n",
    "    print('yes,both sets contain same elements')\n",
    "else:\n",
    "    print('No,both sets dont contain same elements')"
   ]
  },
  {
   "cell_type": "code",
   "execution_count": 85,
   "id": "12b9625f-5140-4a42-b7b1-be412a7c52ae",
   "metadata": {},
   "outputs": [
    {
     "name": "stdin",
     "output_type": "stream",
     "text": [
      "Enter the value of n:  3\n"
     ]
    },
    {
     "name": "stdout",
     "output_type": "stream",
     "text": [
      "tuple of the first `n` powers of 2 is  {8, 2, 4}\n"
     ]
    }
   ],
   "source": [
    "#45. Create a set of the first `n` powers of 2.\n",
    "\n",
    "\n",
    "n = int(input('Enter the value of n: '))\n",
    "set_1 = set()\n",
    "for x in range(1,n+1):\n",
    "    set_1.add(2**x)\n",
    "    \n",
    "print('tuple of the first `n` powers of 2 is ',(set_1))"
   ]
  },
  {
   "cell_type": "code",
   "execution_count": 86,
   "id": "abcf13f3-1442-4444-81f1-7bf47da4a15b",
   "metadata": {},
   "outputs": [
    {
     "data": {
      "text/plain": [
       "{4, 5}"
      ]
     },
     "execution_count": 86,
     "metadata": {},
     "output_type": "execute_result"
    }
   ],
   "source": [
    "#46. Find the common elements between a set and a list.\n",
    "\n",
    "set_1 = {1,2,3,4,5}\n",
    "list_1 = [4,5,6,7,8]\n",
    "set_1.intersection(set(list_1))"
   ]
  },
  {
   "cell_type": "code",
   "execution_count": 88,
   "id": "84739da1-96a5-42b9-8c20-5a9bc31cf1ef",
   "metadata": {},
   "outputs": [
    {
     "name": "stdin",
     "output_type": "stream",
     "text": [
      "Enter the value of n :  4\n"
     ]
    },
    {
     "name": "stdout",
     "output_type": "stream",
     "text": [
      "{1, 10, 3, 6}\n"
     ]
    }
   ],
   "source": [
    "#47. Create a set of the first `n` triangular numbers\n",
    "\n",
    "\n",
    "\n",
    "set_1 = set()\n",
    "n = int(input('Enter the value of n : '))\n",
    "s1 = 0\n",
    "s2 = 0\n",
    "for x in range(1,n+1):\n",
    "    s1 = s2+x\n",
    "    set_1.add(s1)\n",
    "    s2 = s1\n",
    "\n",
    "    \n",
    "print(set_1)"
   ]
  },
  {
   "cell_type": "code",
   "execution_count": 89,
   "id": "ce038ec8-2363-4d3c-a0ce-375c5a6a72f6",
   "metadata": {},
   "outputs": [
    {
     "data": {
      "text/plain": [
       "True"
      ]
     },
     "execution_count": 89,
     "metadata": {},
     "output_type": "execute_result"
    }
   ],
   "source": [
    "#48. Check if a set contains another set as a subset.\n",
    "\n",
    "\n",
    "set_1 = {4,5}\n",
    "set_2 = {4,5,6,7,8}\n",
    "set_1.issubset(set_2)\n"
   ]
  },
  {
   "cell_type": "code",
   "execution_count": 1,
   "id": "73a00b0b-3115-4268-9827-fd6eb0eef86a",
   "metadata": {},
   "outputs": [
    {
     "name": "stdin",
     "output_type": "stream",
     "text": [
      "value of n :  4\n"
     ]
    },
    {
     "name": "stdout",
     "output_type": "stream",
     "text": [
      "{0, 1}\n",
      "It will return only {0, 1} as set dont keep the duplicate values \n"
     ]
    }
   ],
   "source": [
    "#49. Create a set of alternating 1s and 0s of length `n`.\n",
    "\n",
    "n = int(input('value of n : '))\n",
    "set_1 = set()\n",
    "for x in range(0,n):\n",
    "    if x==0 or x % 2 ==0:\n",
    "        set_1.add(1)\n",
    "    else:\n",
    "        set_1.add(0)\n",
    "print(set_1)\n",
    "print('It will return only {0, 1} as set dont keep the duplicate values ')\n",
    "\n"
   ]
  },
  {
   "cell_type": "code",
   "execution_count": 3,
   "id": "62395677-b843-4edc-99c9-07e3d28873b4",
   "metadata": {},
   "outputs": [
    {
     "data": {
      "text/plain": [
       "{1, 2, 3, 4, 5, 6, 7, 8, 'A', 'B', 'C'}"
      ]
     },
     "execution_count": 3,
     "metadata": {},
     "output_type": "execute_result"
    }
   ],
   "source": [
    "#50. Merge multiple sets into one.\n",
    "\n",
    "set_1 = {1,2,3,4,5}\n",
    "set_2 = {4,5,6,7,8}\n",
    "set_3 = {'A','B','C'}\n",
    "set_1.union(set_2.union(set_3))"
   ]
  },
  {
   "cell_type": "code",
   "execution_count": null,
   "id": "c4a559ce-739d-4126-83c3-abc1eb6be2cb",
   "metadata": {},
   "outputs": [],
   "source": []
  }
 ],
 "metadata": {
  "kernelspec": {
   "display_name": "Python 3 (ipykernel)",
   "language": "python",
   "name": "python3"
  },
  "language_info": {
   "codemirror_mode": {
    "name": "ipython",
    "version": 3
   },
   "file_extension": ".py",
   "mimetype": "text/x-python",
   "name": "python",
   "nbconvert_exporter": "python",
   "pygments_lexer": "ipython3",
   "version": "3.10.8"
  }
 },
 "nbformat": 4,
 "nbformat_minor": 5
}
